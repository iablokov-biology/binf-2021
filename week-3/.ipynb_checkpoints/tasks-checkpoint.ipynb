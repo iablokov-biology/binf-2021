{
 "cells": [
  {
   "cell_type": "markdown",
   "metadata": {},
   "source": [
    "# Bioinformatics 2021: Week 3"
   ]
  },
  {
   "cell_type": "code",
   "execution_count": null,
   "metadata": {},
   "outputs": [],
   "source": [
    "# Task 1: sequence alignment (alignment = search with inexact match) with Needleman-Wunsch algorithm\n",
    "# See more: https://www.youtube.com/watch?v=ipp-pNRIp4g\n",
    "#\n",
    "# Example 1:\n",
    "# ATGCGGCC\n",
    "#  *     *  \n",
    "# AGGCGGCA\n",
    "#\n",
    "# Example 2:\n",
    "# A-GCAG-A\n",
    "#     *     \n",
    "# AGGCGGCA\n",
    "#\n",
    "# Example 3:\n",
    "# AGGTTCGGCA\n",
    "#    **      \n",
    "# AGG--CGGCA\n",
    "\n",
    "def global_alignment(seq1, seq2, score_match=1, score_mismatch=-1, score_gap=-2):\n",
    "    algn1 = \"\"\n",
    "    algn2 = \"\"\n",
    "    score = 0\n",
    "    \n",
    "    # your code\n",
    "    return algn1, algn2, score\n",
    "\n",
    "# Example 1:\n",
    "# global_alignment(\"ATGCT\", \"AGCT\") => \"ATGCT\", \"A-GCT\", 2\n",
    "#\n",
    "# Example 2:\n",
    "# global_alignment(\"ATGCT\", \"AGCT\", 2, -1, -3) => \"ATGCT\", \"A-GCT\", 5\n",
    "#\n",
    "# Example 3:\n",
    "# global_alignment(\"ATTAGGATA\", \"ATTCGCTGA\", 1, -1, -1) => \"ATTAGGAT-A\", \"ATT-CGCTGA\", 2\n",
    "#\n",
    "#  ATTAGGAT-A\n",
    "#  |||  | | |\n",
    "#  ATT-CGCTGA"
   ]
  },
  {
   "cell_type": "code",
   "execution_count": null,
   "metadata": {},
   "outputs": [],
   "source": []
  },
  {
   "cell_type": "code",
   "execution_count": null,
   "metadata": {},
   "outputs": [],
   "source": [
    "# Task 2:\n",
    "# Sample at most n random sequences from the given list\n",
    "\n",
    "# seqs =  [\n",
    "#          {\"seq_id\": \"Seq_1\", \"seq\": \"ATGC\"},\n",
    "#          {\"seq_id\": \"Seq_2\", \"seq\": \"GCTA\"},\n",
    "#          {\"seq_id\": \"Seq_3\", \"seq\": \"AAAAAA\"},\n",
    "#          {...}\n",
    "#         ]\n",
    "\n",
    "def sample_sequences(seqs, n=1000):\n",
    "    sampled_seqs = []\n",
    "    \n",
    "    # your code\n",
    "    \n",
    "    return seqs\n",
    "\n",
    "# Example 1: sample_sequences(seqs) => [{20}, {345}, {11}, {7}, {187}, ...]"
   ]
  },
  {
   "cell_type": "code",
   "execution_count": null,
   "metadata": {},
   "outputs": [],
   "source": []
  },
  {
   "cell_type": "code",
   "execution_count": null,
   "metadata": {},
   "outputs": [],
   "source": [
    "# Working with BLAST: https://ftp.ncbi.nlm.nih.gov/blast/executables/blast+/LATEST/\n",
    "import os\n",
    "import json\n",
    "\n",
    "# prepare bat file\n",
    "\n",
    "fn_blast_cmd = \"./blast/run-blast.bat\"\n",
    "blast_db_str = \"set BLASTDB=\" + os.getcwd() + \"\\\\blast\\\\16s-db\\\\\\n\"  # linux: set -> export\n",
    "\n",
    "f_blast_cmd = open(fn_blast_cmd, \"w\")\n",
    "f_blast_cmd.write(blast_db_str)\n",
    "\n",
    "cmd = f\"{os.getcwd()}\\\\blast\\\\blastn -db ncbi16s -query {os.getcwd()}\\\\blast\\\\in\\\\seq.fasta -out {os.getcwd()}\\\\blast\\\\out\\\\result.json -task blastn\"\n",
    "cmd +=              \" -outfmt 13 -max_target_seqs 20 -max_hsps 20 -word_size 4 -num_threads 4\"\n",
    "\n",
    "f_blast_cmd.write(cmd + \"\\n\")\n",
    "f_blast_cmd.close()\n",
    "\n",
    "# prepare seq.fasta\n",
    "seq1_id = \"Seq_1\"\n",
    "seq1 = \"TACGTATGGTGCAAGCGTTATCCGGATTTACTGGGTGTAAAGGGTGCGTAGGTGGTATGGCAAGTCAGAAGTGAAAGGCTGGGGCTCAACCCCGGGACTGCTTTTGAAACTGTCAAACTAGAGTACAGGAGAGGAAAGCGGAATTCCTAGTGTAGCGGTGAAATGCGTAGATATTAGGAGGAACACCAGTGGCGAAGGCGGCTTTCTGGACTGAAACTGACACTGAGGCACGAAAGCGTGGGGAGCAAAC\"\n",
    "seq2_id = \"Seq_2\"\n",
    "seq2 = \"TACGTAGGGGGCAAGCGTTATCCGGATTTACTGGGTGTAAAGGGAGCGCAGACGGCACTGCAAGTCTGAAGTGAAAGCCCGGGGCTCAACCCCGGGACTGCTTTGGAAACTGTAGAGCTAGAGTGCTGGAGAGGCAAGCGGAATTCCTAGTGTAGCGGTGAAATGCGTAGATATTAGGAAGAACACCAGTGGCGAAGGCGGCTTGCTGGACAGTAACTGACGTTCAGGCTCGAAAGCGTGGGGAGCAAACA\"\n",
    "\n",
    "fn_seq = \"./blast/in/seq.fasta\"\n",
    "f_seq = open(fn_seq, \"w\")\n",
    "f_seq.write(f\">{seq1_id}\\n\")\n",
    "f_seq.write(f\"{seq1}\\n\")\n",
    "f_seq.write(f\">{seq2_id}\\n\")\n",
    "f_seq.write(f\"{seq2}\\n\")\n",
    "f_seq.close()\n"
   ]
  },
  {
   "cell_type": "code",
   "execution_count": null,
   "metadata": {},
   "outputs": [],
   "source": [
    "# run run-blast.bat: manually or using suprocess/popen (RTFM!)"
   ]
  },
  {
   "cell_type": "code",
   "execution_count": null,
   "metadata": {},
   "outputs": [],
   "source": [
    "# load results\n",
    "results_json = json.load(open(\"./blast/out/result_1.json\"))\n",
    "results = results_json[\"BlastOutput2\"][\"report\"][\"results\"]"
   ]
  },
  {
   "cell_type": "code",
   "execution_count": null,
   "metadata": {},
   "outputs": [],
   "source": [
    "results"
   ]
  },
  {
   "cell_type": "code",
   "execution_count": null,
   "metadata": {},
   "outputs": [],
   "source": [
    "title = results[\"search\"][\"hits\"][0][\"description\"][0][\"title\"]\n",
    "length = results[\"search\"][\"hits\"][0][\"hsps\"][0][\"align_len\"]\n",
    "identity = results[\"search\"][\"hits\"][0][\"hsps\"][0][\"identity\"]\n",
    "similarity = identity / length"
   ]
  },
  {
   "cell_type": "code",
   "execution_count": null,
   "metadata": {},
   "outputs": [],
   "source": [
    "title, similarity"
   ]
  },
  {
   "cell_type": "code",
   "execution_count": null,
   "metadata": {},
   "outputs": [],
   "source": [
    "# Task 3: taxonomic profiling\n",
    "# Given a paired-end sample (two fastq files), evaluate percentages of organisms in the sample:\n",
    "# 1. Filter errors and join sequences to form a fasta file (see week2)\n",
    "# 2. Sample 1000 random sequences from the obtained fasta file \n",
    "# 3. Run BLAST for these sequences\n",
    "# 4. Gather statistics for Bacteria in the sample (using first 2 words from title variable)\n",
    "#    If similarity < sim_th, then mark sequence as [unclassified]\n",
    "\n",
    "def taxonomy_profile(filename_forward, filename_reverse, sim_th=0.9):\n",
    "    profile = {}\n",
    "    # your code\n",
    "    return profile\n",
    "\n",
    "# Example 1: taxonomy_profile(\"sample_1.fastq.gz\", \"sample_2.fastq.gz\") => \n",
    "#             {\"Escherichia coli\": 0.21, \"Bacteroides ovatus\": 0.11, \"Bacteroides vulgatus\": 0.07, ..., \"[unclassified]\": 0.02}\n",
    "#             values should sum up to 1.0 (!)"
   ]
  },
  {
   "cell_type": "code",
   "execution_count": null,
   "metadata": {},
   "outputs": [],
   "source": []
  },
  {
   "cell_type": "code",
   "execution_count": null,
   "metadata": {},
   "outputs": [],
   "source": [
    "# working with dataframes"
   ]
  },
  {
   "cell_type": "code",
   "execution_count": null,
   "metadata": {},
   "outputs": [],
   "source": [
    "import pandas as pd"
   ]
  },
  {
   "cell_type": "code",
   "execution_count": null,
   "metadata": {},
   "outputs": [],
   "source": [
    "sample_id = \"ERR0000000\"  # <- here should be your sample id \"ERR...123\"\n",
    "\n",
    "# make Series from dict\n",
    "profile = {\"Escherichia coli\": 0.21, \"Bacteroides ovatus\": 0.11, \"Bacteroides vulgatus\": 0.07, \"[unclassified]\": 0.02}\n",
    "sr_profile = pd.Series(profile)\n",
    "sr_profile.name = sample_id\n",
    "\n",
    "# convert Series to DataFrame\n",
    "df_profile = pd.DataFrame(sr_profile)\n",
    "df_profile.index.name = \"taxonomy\""
   ]
  },
  {
   "cell_type": "code",
   "execution_count": null,
   "metadata": {},
   "outputs": [],
   "source": [
    "# save DataFrame to csv fie\n",
    "df_profile.to_csv(f\"./output/{sample_id}.csv\")"
   ]
  },
  {
   "cell_type": "code",
   "execution_count": null,
   "metadata": {},
   "outputs": [],
   "source": []
  }
 ],
 "metadata": {
  "kernelspec": {
   "display_name": "Python 3",
   "language": "python",
   "name": "python3"
  },
  "language_info": {
   "codemirror_mode": {
    "name": "ipython",
    "version": 3
   },
   "file_extension": ".py",
   "mimetype": "text/x-python",
   "name": "python",
   "nbconvert_exporter": "python",
   "pygments_lexer": "ipython3",
   "version": "3.7.9"
  }
 },
 "nbformat": 4,
 "nbformat_minor": 4
}
