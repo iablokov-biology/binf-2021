{
 "cells": [
  {
   "cell_type": "markdown",
   "metadata": {},
   "source": [
    "# Bioinformatics 2021: Week 5"
   ]
  },
  {
   "cell_type": "code",
   "execution_count": 137,
   "metadata": {},
   "outputs": [],
   "source": [
    "import pandas as pd\n",
    "import numpy as np\n",
    "import shutil"
   ]
  },
  {
   "cell_type": "markdown",
   "metadata": {},
   "source": [
    "### Working with NCBI database"
   ]
  },
  {
   "cell_type": "code",
   "execution_count": 145,
   "metadata": {},
   "outputs": [],
   "source": [
    "# Loading genomes from https://www.ncbi.nlm.nih.gov/nuccore/?term=bacteria"
   ]
  },
  {
   "cell_type": "code",
   "execution_count": 138,
   "metadata": {},
   "outputs": [],
   "source": [
    "#!pip install ncbi-datasets-pylib"
   ]
  },
  {
   "cell_type": "code",
   "execution_count": 139,
   "metadata": {},
   "outputs": [],
   "source": [
    "try:\n",
    "    import ncbi.datasets\n",
    "except ImportError:\n",
    "    print('ncbi.datasets module not found. To install, run `pip install ncbi-datasets-pylib`.')"
   ]
  },
  {
   "cell_type": "code",
   "execution_count": 140,
   "metadata": {},
   "outputs": [],
   "source": [
    "## start an api_instance \n",
    "api_instance = ncbi.datasets.GenomeApi(ncbi.datasets.ApiClient())"
   ]
  },
  {
   "cell_type": "code",
   "execution_count": 141,
   "metadata": {},
   "outputs": [
    {
     "name": "stdout",
     "output_type": "stream",
     "text": [
      "26800\n",
      "1 1000 eNrjsnVMLcrPzc9LLFZILC0uKUrMyUzNK84stsosji9KTYvPz8uphLKLUwut3J3d4g0MDCwMLc2NTPUMAfBoFfo=\n",
      "2 1000 eNrjcnTMrUzOz0ksyS8ozixWKMrIrMovLshITC1KTLXKLI4vSk2Lz8/LqYSyi1MLrdyd3eINDMzNDY3NDU31DAFfAxeu\n",
      "3 1000 eNrjsnZKTM7MySktVkjMKUtNrCxNzSvOLLbKLI4vSk2Lz8/LqYSyi1MLrdyd3eINDAwsTSwMzU31DAG5zBUW\n",
      "4 1000 eNrjsnYqSkzOqExKTC5JLcoszVVILAOSVpnF8UWpafH5eTmVUHZxaqGVu7NbvIGBkZGhmbmlqZ4hALiiFQM=\n",
      "5 1000 eNrjcnNOzUktysxLLEnMK8nMzc9LLFZIyUysyi8pyi/IyExOtMosji9KTYvPz8uphLKLUwut3J3d4g0MTIyNLU1NTPUMAecBGao=\n",
      "6 1000 eNrjsnfOz03Mzc9LLFZILCxNLMlMTlRwcTS0MDe3yiyOL0pNi8/Py6mEsotTC63cnd3iDQwMTC0NLC1M9QwB388VNw==\n",
      "7 1000 eNrj8nRJLS7NSctPSkwuSS3KLM1VSCwtyS8pyi/IyEwG8jyCfI2sMovji1LT4vPzciqh7OLUQit3Z7d4AyAwMjA2M9UzBAAk4Rol\n",
      "8 1000 eNrjsnHNK0ktyi/LTCrKzFcoSEzOTMtMLi22yiyOL0pNi8/Py6mEsotTC63cnd3iDQwMzQ3MLYxM9QwB1ScVeg==\n",
      "9 1000 eNrjsnMrLc5PSkwuSS3KLM1VyEtNLspPT81LLbbKLI4vSk2Lz8/LqYSyi1MLrdyd3eItDQxMTA3MzUz1DAEIkBZV\n",
      "10 1000 eNrjsvZIzMnPzc9LLFYoLk0qSS0qSsxLTbTKLI4vSk2Lz8/LqYSyi1MLrdyd3eItDQwMDQ2NDUz1DAG5xBT+\n",
      "11 1000 eNrjsvbOLEksTizJLy7IL0pUKMssykzJLLbKLI4vSk2Lz8/LqYSyi1MLrdyd3eINDMwtjCwtDE31DAHBWxUz\n",
      "12 1000 eNrjsvJJzSupSk1USC/NrMrIL03NK84stsosji9KTYvPz8uphLKLUwut3J3d4g0MDM0NDA2MTPUMAaf7FLs=\n",
      "13 1000 eNrjcvBNLMrMS0wHkmX5RYl5xQqJOemZyfk5iVaZxfFFqWnx+Xk5lVZ5+SUgTnFqoZW7s2O8gYGhkaWZkZGpniEAOTkXDA==\n",
      "14 1000 eNrjcvXNTC7KT0pMLkktyizNVcjJzEtJzMssyc9JLUrMK7bKLI4vSk2Lz8/LqbTKyy8BcYpTC63cnR3jDQzMzC0sLMxN9QwByRsZVA==\n",
      "15 1000 eNrjcvKtTM7PyUzOTEpMLkktyizNVUjKT83LTM5OzbTKLI4vSk2Lz8/LqbTKyy8BcYpTC63cnR3jDQwNzI0NjSxN9QwBbxoX3Q==\n",
      "16 1000 eNrjcvbLT04sSsnMz0xJLVZISkzNLsrPTknMzSzOz8m0yiyOL0pNi8/Py6m0yssvAXGKUwut3J0d4w0MjC1NTI2NTPUMAYe2GEg=\n",
      "17 1000 eNrjsglITM3LTEpMzszJKS1WyC8pyS/PzLTKLI4vSk2Lz8/LqbTKyy8BcYpTC63cnR3jDQzMLMxNTIxM9QwB1WkVjA==\n",
      "18 1000 eNrjsg1ITclPSkwuSS1SyMsvyS/JSM3LTEy1yiyOL0pNi8/Py6m0AoqDOMWphVbuzo7xBgYmxsamBhameoYA6UAV0Q==\n",
      "19 1000 eNrjcg4oSi3LL0nNyUlUyC9KzMksVnAMcXZWMDY2MrO0yiyOL0pNi8/Py6m0yssvAXGKUwut3J0d4w0MDAwtTA1NTPWMADGOFkc=\n",
      "20 1000 eNrjsgooTi1Nyc/Nz0ssVqhKLc4ozcy0yiyOL0pNi8/Py6m0yssvAXGKUwut3J0d4y0NDAxNDC2NTPUMAamCFMk=\n",
      "21 1000 eNrjsgvKTM5OLSkpzkxUSCxOzU3Kz0vNK84stsosji9KTYvPz8uptMrLLwFxilMLrdydHeMNDAwsjCwMjUz1jAAH5RZU\n",
      "22 1000 eNrjCg9OTcnMzczLLC7ILMpPzkhMLUlUSErMSkxOzMlMyy/Ky0zNK84sVnAJ9lUwNDMwNbHKLI4vSk2Lz8/LqbTKyy8BcYpTC63cnR3jDQwMjM0tjAxM9QwBuAoeoQ==\n",
      "23 1000 eNrjsg4uyCzKL87PTVQoyM/JyczLTM7PSbTKLI4vSk2Lz8/LqYSyi1MLrdyd3eINDIwsjA1NzUz1DAG+5RUd\n",
      "24 1000 eNrjsg0uKUotKMnPrUxOLVbIzEtOLMpLLCkttsosji9KTYvPz8uphLKLUwut3J3d4g0MDA2MzA0tTPUMAfgoFhA=\n",
      "25 1000 eNrjcghJLSlKTE/Ny0/OT04uLVbISMzJL8jIzCkttsosji9KTYvPz8uphLKLUwut3J3d4g0MDM0NjSwMTfUMAT9kFyw=\n",
      "26 1000 eNrjsgzLTCrKzFdIzsjPSS1KTFXwDTazyiyOL0pNi8/Py6mEsotTC63cnd3iDQwMLIwsjQxN9QwBaG8TaQ==\n",
      "27 800 None\n"
     ]
    }
   ],
   "source": [
    "token = \"\"\n",
    "e = 0\n",
    "p = 0\n",
    "\n",
    "# (1) create a list to store data for DataFrame\n",
    "genomes_data = []\n",
    "\n",
    "while True:\n",
    "    # (2) download list (one page) of genomes \n",
    "    try:\n",
    "        e += 1\n",
    "        genomes_page = api_instance.assembly_descriptors_by_taxon(taxon=2, page_size=1000, page_token=token, filters_reference_only=True)\n",
    "    except:\n",
    "        print(\"Exception\")\n",
    "        if e >= 10: break        \n",
    "        continue\n",
    "    e = 0\n",
    "    p += 1\n",
    "    \n",
    "    if token == \"\":\n",
    "        print(genomes_page.total_count)\n",
    "    \n",
    "    for assembly_item in genomes_page.assemblies:\n",
    "        assembly = assembly_item.assembly\n",
    "        assembly_level = assembly.assembly_level\n",
    "        \n",
    "        # (3) make a dictionary with relevant data for each genome\n",
    "        genomes_item = {\"accession\": assembly.assembly_accession, \"name\": assembly.display_name, \n",
    "                        \"sci_name\": assembly.org.sci_name, \"title\": assembly.org.title, \"tax_id\": int(assembly.org.tax_id),\n",
    "                        \"category\": assembly.assembly_category, \"level\": assembly_level, \"seq_length\": int(assembly.seq_length)}\n",
    "        \n",
    "        # (4) add genome data to list\n",
    "        genomes_data.append(genomes_item)\n",
    "    \n",
    "    # get token for next page of results\n",
    "    token = genomes_page.next_page_token\n",
    "    \n",
    "    print(p, len(genomes_page.assemblies), token)\n",
    "    if token == \"\" or token is None: break\n",
    "\n",
    "# (5) transform list of dictionaries to DataFrame\n",
    "df_genomes = pd.DataFrame(genomes_data)\n",
    "df_genomes.set_index(\"accession\", inplace=True)"
   ]
  },
  {
   "cell_type": "code",
   "execution_count": 146,
   "metadata": {},
   "outputs": [
    {
     "name": "stdout",
     "output_type": "stream",
     "text": [
      "<class 'pandas.core.frame.DataFrame'>\n",
      "Index: 26800 entries, GCF_000196515.1 to GCA_000381765.1\n",
      "Data columns (total 7 columns):\n",
      " #   Column      Non-Null Count  Dtype \n",
      "---  ------      --------------  ----- \n",
      " 0   name        26800 non-null  object\n",
      " 1   sci_name    26800 non-null  object\n",
      " 2   title       26800 non-null  object\n",
      " 3   tax_id      26800 non-null  int64 \n",
      " 4   category    26800 non-null  object\n",
      " 5   level       26800 non-null  object\n",
      " 6   seq_length  26800 non-null  int64 \n",
      "dtypes: int64(2), object(5)\n",
      "memory usage: 1.6+ MB\n"
     ]
    }
   ],
   "source": [
    "# show table info\n",
    "df_genomes.info()"
   ]
  },
  {
   "cell_type": "code",
   "execution_count": 147,
   "metadata": {},
   "outputs": [
    {
     "data": {
      "text/html": [
       "<div>\n",
       "<style scoped>\n",
       "    .dataframe tbody tr th:only-of-type {\n",
       "        vertical-align: middle;\n",
       "    }\n",
       "\n",
       "    .dataframe tbody tr th {\n",
       "        vertical-align: top;\n",
       "    }\n",
       "\n",
       "    .dataframe thead th {\n",
       "        text-align: right;\n",
       "    }\n",
       "</style>\n",
       "<table border=\"1\" class=\"dataframe\">\n",
       "  <thead>\n",
       "    <tr style=\"text-align: right;\">\n",
       "      <th></th>\n",
       "      <th>name</th>\n",
       "      <th>sci_name</th>\n",
       "      <th>title</th>\n",
       "      <th>tax_id</th>\n",
       "      <th>category</th>\n",
       "      <th>level</th>\n",
       "      <th>seq_length</th>\n",
       "    </tr>\n",
       "    <tr>\n",
       "      <th>accession</th>\n",
       "      <th></th>\n",
       "      <th></th>\n",
       "      <th></th>\n",
       "      <th></th>\n",
       "      <th></th>\n",
       "      <th></th>\n",
       "      <th></th>\n",
       "    </tr>\n",
       "  </thead>\n",
       "  <tbody>\n",
       "    <tr>\n",
       "      <th>GCF_000196515.1</th>\n",
       "      <td>ASM19651v1</td>\n",
       "      <td>'Nostoc azollae' 0708</td>\n",
       "      <td>'Nostoc azollae' 0708</td>\n",
       "      <td>551115</td>\n",
       "      <td>representative genome</td>\n",
       "      <td>Complete Genome</td>\n",
       "      <td>5486145</td>\n",
       "    </tr>\n",
       "    <tr>\n",
       "      <th>GCA_000196515.1</th>\n",
       "      <td>ASM19651v1</td>\n",
       "      <td>'Nostoc azollae' 0708</td>\n",
       "      <td>'Nostoc azollae' 0708</td>\n",
       "      <td>551115</td>\n",
       "      <td>representative genome</td>\n",
       "      <td>Complete Genome</td>\n",
       "      <td>5486145</td>\n",
       "    </tr>\n",
       "    <tr>\n",
       "      <th>GCF_002973605.1</th>\n",
       "      <td>ASM297360v1</td>\n",
       "      <td>Abditibacterium utsteinense</td>\n",
       "      <td>Abditibacterium utsteinense</td>\n",
       "      <td>1960156</td>\n",
       "      <td>representative genome</td>\n",
       "      <td>Contig</td>\n",
       "      <td>3606331</td>\n",
       "    </tr>\n",
       "    <tr>\n",
       "      <th>GCA_002973605.1</th>\n",
       "      <td>ASM297360v1</td>\n",
       "      <td>Abditibacterium utsteinense</td>\n",
       "      <td>Abditibacterium utsteinense</td>\n",
       "      <td>1960156</td>\n",
       "      <td>representative genome</td>\n",
       "      <td>Contig</td>\n",
       "      <td>3606331</td>\n",
       "    </tr>\n",
       "    <tr>\n",
       "      <th>GCF_013267415.1</th>\n",
       "      <td>ASM1326741v1</td>\n",
       "      <td>Abiotrophia defectiva</td>\n",
       "      <td>Abiotrophia defectiva</td>\n",
       "      <td>46125</td>\n",
       "      <td>representative genome</td>\n",
       "      <td>Complete Genome</td>\n",
       "      <td>2046826</td>\n",
       "    </tr>\n",
       "    <tr>\n",
       "      <th>GCA_013267415.1</th>\n",
       "      <td>ASM1326741v1</td>\n",
       "      <td>Abiotrophia defectiva</td>\n",
       "      <td>Abiotrophia defectiva</td>\n",
       "      <td>46125</td>\n",
       "      <td>representative genome</td>\n",
       "      <td>Complete Genome</td>\n",
       "      <td>2046826</td>\n",
       "    </tr>\n",
       "    <tr>\n",
       "      <th>GCF_003725415.1</th>\n",
       "      <td>YH-panp20</td>\n",
       "      <td>Absicoccus porci</td>\n",
       "      <td>Absicoccus porci</td>\n",
       "      <td>2486576</td>\n",
       "      <td>representative genome</td>\n",
       "      <td>Scaffold</td>\n",
       "      <td>2222132</td>\n",
       "    </tr>\n",
       "    <tr>\n",
       "      <th>GCA_003725415.1</th>\n",
       "      <td>YH-panp20</td>\n",
       "      <td>Absicoccus porci</td>\n",
       "      <td>Absicoccus porci</td>\n",
       "      <td>2486576</td>\n",
       "      <td>representative genome</td>\n",
       "      <td>Scaffold</td>\n",
       "      <td>2222132</td>\n",
       "    </tr>\n",
       "    <tr>\n",
       "      <th>GCF_003151135.1</th>\n",
       "      <td>ASM315113v1</td>\n",
       "      <td>Abyssibacter profundi</td>\n",
       "      <td>Abyssibacter profundi</td>\n",
       "      <td>2182787</td>\n",
       "      <td>representative genome</td>\n",
       "      <td>Contig</td>\n",
       "      <td>3741513</td>\n",
       "    </tr>\n",
       "    <tr>\n",
       "      <th>GCA_003151135.1</th>\n",
       "      <td>ASM315113v1</td>\n",
       "      <td>Abyssibacter profundi</td>\n",
       "      <td>Abyssibacter profundi</td>\n",
       "      <td>2182787</td>\n",
       "      <td>representative genome</td>\n",
       "      <td>Contig</td>\n",
       "      <td>3741513</td>\n",
       "    </tr>\n",
       "  </tbody>\n",
       "</table>\n",
       "</div>"
      ],
      "text/plain": [
       "                         name                     sci_name  \\\n",
       "accession                                                    \n",
       "GCF_000196515.1    ASM19651v1        'Nostoc azollae' 0708   \n",
       "GCA_000196515.1    ASM19651v1        'Nostoc azollae' 0708   \n",
       "GCF_002973605.1   ASM297360v1  Abditibacterium utsteinense   \n",
       "GCA_002973605.1   ASM297360v1  Abditibacterium utsteinense   \n",
       "GCF_013267415.1  ASM1326741v1        Abiotrophia defectiva   \n",
       "GCA_013267415.1  ASM1326741v1        Abiotrophia defectiva   \n",
       "GCF_003725415.1     YH-panp20             Absicoccus porci   \n",
       "GCA_003725415.1     YH-panp20             Absicoccus porci   \n",
       "GCF_003151135.1   ASM315113v1        Abyssibacter profundi   \n",
       "GCA_003151135.1   ASM315113v1        Abyssibacter profundi   \n",
       "\n",
       "                                       title   tax_id               category  \\\n",
       "accession                                                                      \n",
       "GCF_000196515.1        'Nostoc azollae' 0708   551115  representative genome   \n",
       "GCA_000196515.1        'Nostoc azollae' 0708   551115  representative genome   \n",
       "GCF_002973605.1  Abditibacterium utsteinense  1960156  representative genome   \n",
       "GCA_002973605.1  Abditibacterium utsteinense  1960156  representative genome   \n",
       "GCF_013267415.1        Abiotrophia defectiva    46125  representative genome   \n",
       "GCA_013267415.1        Abiotrophia defectiva    46125  representative genome   \n",
       "GCF_003725415.1             Absicoccus porci  2486576  representative genome   \n",
       "GCA_003725415.1             Absicoccus porci  2486576  representative genome   \n",
       "GCF_003151135.1        Abyssibacter profundi  2182787  representative genome   \n",
       "GCA_003151135.1        Abyssibacter profundi  2182787  representative genome   \n",
       "\n",
       "                           level  seq_length  \n",
       "accession                                     \n",
       "GCF_000196515.1  Complete Genome     5486145  \n",
       "GCA_000196515.1  Complete Genome     5486145  \n",
       "GCF_002973605.1           Contig     3606331  \n",
       "GCA_002973605.1           Contig     3606331  \n",
       "GCF_013267415.1  Complete Genome     2046826  \n",
       "GCA_013267415.1  Complete Genome     2046826  \n",
       "GCF_003725415.1         Scaffold     2222132  \n",
       "GCA_003725415.1         Scaffold     2222132  \n",
       "GCF_003151135.1           Contig     3741513  \n",
       "GCA_003151135.1           Contig     3741513  "
      ]
     },
     "execution_count": 147,
     "metadata": {},
     "output_type": "execute_result"
    }
   ],
   "source": [
    "# show first N=10 rows\n",
    "df_genomes.head(10)"
   ]
  },
  {
   "cell_type": "code",
   "execution_count": 148,
   "metadata": {},
   "outputs": [
    {
     "data": {
      "text/plain": [
       "accession\n",
       "GCF_000196515.1     True\n",
       "GCA_000196515.1     True\n",
       "GCF_002973605.1     True\n",
       "GCA_002973605.1     True\n",
       "GCF_013267415.1    False\n",
       "                   ...  \n",
       "GCA_003470435.1    False\n",
       "GCF_001570925.1    False\n",
       "GCA_001570925.1    False\n",
       "GCF_000381765.1    False\n",
       "GCA_000381765.1    False\n",
       "Name: seq_length, Length: 26800, dtype: bool"
      ]
     },
     "execution_count": 148,
     "metadata": {},
     "output_type": "execute_result"
    }
   ],
   "source": [
    "# this returns a list (pd.Series object) of rows in a table with True/False values for a given logical condition\n",
    "df_genomes[\"seq_length\"] > 3333333"
   ]
  },
  {
   "cell_type": "code",
   "execution_count": 149,
   "metadata": {},
   "outputs": [],
   "source": [
    "# example for a combined logical condition\n",
    "df_selected_genomes = df_genomes[(df_genomes[\"seq_length\"] > 4500000) & (df_genomes[\"seq_length\"] < 4501000)]"
   ]
  },
  {
   "cell_type": "code",
   "execution_count": 150,
   "metadata": {},
   "outputs": [
    {
     "data": {
      "text/html": [
       "<div>\n",
       "<style scoped>\n",
       "    .dataframe tbody tr th:only-of-type {\n",
       "        vertical-align: middle;\n",
       "    }\n",
       "\n",
       "    .dataframe tbody tr th {\n",
       "        vertical-align: top;\n",
       "    }\n",
       "\n",
       "    .dataframe thead th {\n",
       "        text-align: right;\n",
       "    }\n",
       "</style>\n",
       "<table border=\"1\" class=\"dataframe\">\n",
       "  <thead>\n",
       "    <tr style=\"text-align: right;\">\n",
       "      <th></th>\n",
       "      <th>name</th>\n",
       "      <th>sci_name</th>\n",
       "      <th>title</th>\n",
       "      <th>tax_id</th>\n",
       "      <th>category</th>\n",
       "      <th>level</th>\n",
       "      <th>seq_length</th>\n",
       "    </tr>\n",
       "    <tr>\n",
       "      <th>accession</th>\n",
       "      <th></th>\n",
       "      <th></th>\n",
       "      <th></th>\n",
       "      <th></th>\n",
       "      <th></th>\n",
       "      <th></th>\n",
       "      <th></th>\n",
       "    </tr>\n",
       "  </thead>\n",
       "  <tbody>\n",
       "    <tr>\n",
       "      <th>GCF_004801395.1</th>\n",
       "      <td>ASM480139v1</td>\n",
       "      <td>Allorhizobium terrae</td>\n",
       "      <td>Allorhizobium terrae</td>\n",
       "      <td>1848972</td>\n",
       "      <td>representative genome</td>\n",
       "      <td>Contig</td>\n",
       "      <td>4500593</td>\n",
       "    </tr>\n",
       "    <tr>\n",
       "      <th>GCA_004801395.1</th>\n",
       "      <td>ASM480139v1</td>\n",
       "      <td>Allorhizobium terrae</td>\n",
       "      <td>Allorhizobium terrae</td>\n",
       "      <td>1848972</td>\n",
       "      <td>representative genome</td>\n",
       "      <td>Contig</td>\n",
       "      <td>4500593</td>\n",
       "    </tr>\n",
       "    <tr>\n",
       "      <th>GCF_002901445.1</th>\n",
       "      <td>ASM290144v1</td>\n",
       "      <td>Deinococcus koreensis</td>\n",
       "      <td>Deinococcus koreensis</td>\n",
       "      <td>2054903</td>\n",
       "      <td>representative genome</td>\n",
       "      <td>Contig</td>\n",
       "      <td>4500921</td>\n",
       "    </tr>\n",
       "    <tr>\n",
       "      <th>GCA_002901445.1</th>\n",
       "      <td>ASM290144v1</td>\n",
       "      <td>Deinococcus koreensis</td>\n",
       "      <td>Deinococcus koreensis</td>\n",
       "      <td>2054903</td>\n",
       "      <td>representative genome</td>\n",
       "      <td>Contig</td>\n",
       "      <td>4500921</td>\n",
       "    </tr>\n",
       "    <tr>\n",
       "      <th>GCF_900094955.1</th>\n",
       "      <td>IMG-taxon 2616645019 annotated assembly</td>\n",
       "      <td>Fictibacillus enclensis</td>\n",
       "      <td>Fictibacillus enclensis</td>\n",
       "      <td>1017270</td>\n",
       "      <td>representative genome</td>\n",
       "      <td>Scaffold</td>\n",
       "      <td>4500901</td>\n",
       "    </tr>\n",
       "    <tr>\n",
       "      <th>GCA_900094955.1</th>\n",
       "      <td>IMG-taxon 2616645019 annotated assembly</td>\n",
       "      <td>Fictibacillus enclensis</td>\n",
       "      <td>Fictibacillus enclensis</td>\n",
       "      <td>1017270</td>\n",
       "      <td>representative genome</td>\n",
       "      <td>Scaffold</td>\n",
       "      <td>4500901</td>\n",
       "    </tr>\n",
       "    <tr>\n",
       "      <th>GCF_002221525.1</th>\n",
       "      <td>ASM222152v1</td>\n",
       "      <td>Pseudoalteromonas espejiana DSM 9414</td>\n",
       "      <td>Pseudoalteromonas espejiana DSM 9414</td>\n",
       "      <td>1314869</td>\n",
       "      <td>representative genome</td>\n",
       "      <td>Complete Genome</td>\n",
       "      <td>4500451</td>\n",
       "    </tr>\n",
       "    <tr>\n",
       "      <th>GCA_002221525.1</th>\n",
       "      <td>ASM222152v1</td>\n",
       "      <td>Pseudoalteromonas espejiana DSM 9414</td>\n",
       "      <td>Pseudoalteromonas espejiana DSM 9414</td>\n",
       "      <td>1314869</td>\n",
       "      <td>representative genome</td>\n",
       "      <td>Complete Genome</td>\n",
       "      <td>4500451</td>\n",
       "    </tr>\n",
       "  </tbody>\n",
       "</table>\n",
       "</div>"
      ],
      "text/plain": [
       "                                                    name  \\\n",
       "accession                                                  \n",
       "GCF_004801395.1                              ASM480139v1   \n",
       "GCA_004801395.1                              ASM480139v1   \n",
       "GCF_002901445.1                              ASM290144v1   \n",
       "GCA_002901445.1                              ASM290144v1   \n",
       "GCF_900094955.1  IMG-taxon 2616645019 annotated assembly   \n",
       "GCA_900094955.1  IMG-taxon 2616645019 annotated assembly   \n",
       "GCF_002221525.1                              ASM222152v1   \n",
       "GCA_002221525.1                              ASM222152v1   \n",
       "\n",
       "                                             sci_name  \\\n",
       "accession                                               \n",
       "GCF_004801395.1                  Allorhizobium terrae   \n",
       "GCA_004801395.1                  Allorhizobium terrae   \n",
       "GCF_002901445.1                 Deinococcus koreensis   \n",
       "GCA_002901445.1                 Deinococcus koreensis   \n",
       "GCF_900094955.1               Fictibacillus enclensis   \n",
       "GCA_900094955.1               Fictibacillus enclensis   \n",
       "GCF_002221525.1  Pseudoalteromonas espejiana DSM 9414   \n",
       "GCA_002221525.1  Pseudoalteromonas espejiana DSM 9414   \n",
       "\n",
       "                                                title   tax_id  \\\n",
       "accession                                                        \n",
       "GCF_004801395.1                  Allorhizobium terrae  1848972   \n",
       "GCA_004801395.1                  Allorhizobium terrae  1848972   \n",
       "GCF_002901445.1                 Deinococcus koreensis  2054903   \n",
       "GCA_002901445.1                 Deinococcus koreensis  2054903   \n",
       "GCF_900094955.1               Fictibacillus enclensis  1017270   \n",
       "GCA_900094955.1               Fictibacillus enclensis  1017270   \n",
       "GCF_002221525.1  Pseudoalteromonas espejiana DSM 9414  1314869   \n",
       "GCA_002221525.1  Pseudoalteromonas espejiana DSM 9414  1314869   \n",
       "\n",
       "                              category            level  seq_length  \n",
       "accession                                                            \n",
       "GCF_004801395.1  representative genome           Contig     4500593  \n",
       "GCA_004801395.1  representative genome           Contig     4500593  \n",
       "GCF_002901445.1  representative genome           Contig     4500921  \n",
       "GCA_002901445.1  representative genome           Contig     4500921  \n",
       "GCF_900094955.1  representative genome         Scaffold     4500901  \n",
       "GCA_900094955.1  representative genome         Scaffold     4500901  \n",
       "GCF_002221525.1  representative genome  Complete Genome     4500451  \n",
       "GCA_002221525.1  representative genome  Complete Genome     4500451  "
      ]
     },
     "execution_count": 150,
     "metadata": {},
     "output_type": "execute_result"
    }
   ],
   "source": [
    "df_selected_genomes"
   ]
  },
  {
   "cell_type": "code",
   "execution_count": 41,
   "metadata": {},
   "outputs": [],
   "source": [
    "# Task 1: select only genomes with the following properties:\n",
    "# - category: \"reference genome\" or \"representative genome\"\n",
    "# - level is \"Complete Genome\"\n",
    "# - length in the range from 4 100 000 to 4 500 000\n",
    "# - accession starts with \"GCF_\" (check https://pandas.pydata.org/docs/reference/api/pandas.Series.str.find.html)\n",
    "\n",
    "df_selected_genomes = None # your code here"
   ]
  },
  {
   "cell_type": "code",
   "execution_count": 151,
   "metadata": {},
   "outputs": [
    {
     "name": "stdout",
     "output_type": "stream",
     "text": [
      ".ncbi_genomes_001.zip\n"
     ]
    }
   ],
   "source": [
    "# Download selected genomes\n",
    "nn = len(df_selected_genomes.index)\n",
    "batch_size = 200\n",
    "n_batch = int(np.ceil(nn / 200))\n",
    "for n in range(n_batch):\n",
    "    accessions = df_selected_genomes.index.to_list()[n*batch_size:(n+1)*batch_size]\n",
    "\n",
    "    ns = str(n+1).rjust(3, \"0\")\n",
    "\n",
    "    filename = f'.ncbi_genomes_{ns}.zip'\n",
    "    api_response = api_instance.download_assembly_package(accessions, filename=filename, \n",
    "                                        include_annotation_type=[\"GENOME_GFF\", \"GENOME_GBFF\", \"RNA_FASTA\", \"PROT_FASTA\", \"GENOME_GTF\"])\n",
    "    pt_src = str(api_response)\n",
    "    pt_dst = f'./download/ncbi_genomes_{ns}.zip'\n",
    "    shutil.move(pt_src, pt_dst)\n",
    "    \n",
    "    print(filename)\n",
    "\n"
   ]
  },
  {
   "cell_type": "code",
   "execution_count": 153,
   "metadata": {},
   "outputs": [
    {
     "name": "stdout",
     "output_type": "stream",
     "text": [
      "total 4\n",
      "drwxrwx---+ 1 Administrators None 0 May  4 00:41 .\n",
      "drwxrwx---+ 1 X              None 0 May  4 00:41 ..\n",
      "drwxrwx---+ 1 Administrators None 0 May  3 23:43 GCA_002221525.1\n"
     ]
    }
   ],
   "source": [
    "# Extract genomes to \"./genomes\" folder\n",
    "!ls -al ./genomes"
   ]
  },
  {
   "cell_type": "code",
   "execution_count": null,
   "metadata": {},
   "outputs": [],
   "source": []
  },
  {
   "cell_type": "markdown",
   "metadata": {},
   "source": [
    "### Extracting genes using annotation"
   ]
  },
  {
   "cell_type": "code",
   "execution_count": 154,
   "metadata": {},
   "outputs": [],
   "source": [
    "from Bio import SeqIO"
   ]
  },
  {
   "cell_type": "code",
   "execution_count": 155,
   "metadata": {},
   "outputs": [
    {
     "name": "stdout",
     "output_type": "stream",
     "text": [
      "CP011028.1 6935\n",
      " feature: 0 3720756 1\n",
      " feature: 159 1551 1   dnaA\n",
      " feature: 159 1551 1   dnaA   chromosomal replication initiator protein\n",
      " feature: 1564 2668 1   dnaN\n",
      " feature: 1564 2668 1   dnaN   DNA polymerase III subunit beta\n",
      " feature: 2682 3777 1   recF\n",
      " feature: 2682 3777 1   recF   DNA replication and repair protein RecF\n",
      " feature: 3903 6216 1   gyrB\n",
      " feature: 3903 6216 1   gyrB   DNA gyrase subunit B\n",
      " feature: 6356 7259 1   glyQ\n",
      "CP011029.1 1449\n",
      " feature: 0 779695 1\n",
      " feature: 160 1399 1\n",
      " feature: 160 1399 1   hypothetical protein\n",
      " feature: 1414 2377 1   parB\n",
      " feature: 1414 2377 1   parB   chromosome partitioning protein, ParB family\n",
      " feature: 2814 5958 1\n",
      " feature: 2814 5958 1   hypothetical protein\n",
      " feature: 6723 8190 1   rmuC\n",
      " feature: 6723 8190 1   rmuC   DNA recombination protein RmuC\n",
      " feature: 8235 8379 1\n"
     ]
    }
   ],
   "source": [
    "# get annotations\n",
    "records = list(SeqIO.parse(\"./genomes/GCA_002221525.1/genomic.gbff\", \"genbank\"))\n",
    "for record in records:\n",
    "    print(record.id, len(record.features))\n",
    "    \n",
    "    for feature in record.features[0:10]:\n",
    "        print(\" feature:\", feature.location.start, feature.location.end, feature.location.strand, end=\"\")\n",
    "        if \"gene\" in feature.qualifiers:\n",
    "            print(\"  \", feature.qualifiers[\"gene\"][0], end=\"\")\n",
    "        if \"product\" in feature.qualifiers:\n",
    "            print(\"  \", feature.qualifiers[\"product\"][0], end=\"\")\n",
    "        print()"
   ]
  },
  {
   "cell_type": "code",
   "execution_count": 157,
   "metadata": {},
   "outputs": [
    {
     "name": "stdout",
     "output_type": "stream",
     "text": [
      "ID: CP011028.1\n",
      "Name: CP011028.1\n",
      "Description: CP011028.1 Pseudoalteromonas espejiana strain ATCC 29659 chromosome I, complete sequence\n",
      "Number of features: 0\n",
      "Seq('TCAACAATTTTATAAAAATCAATCTTTTACTTGTGGATAAAGTGCCTTCATAAT...ATA')\n"
     ]
    }
   ],
   "source": [
    "# read genome sequence\n",
    "sequences = list(SeqIO.parse(\"./genomes/GCA_002221525.1/GCA_002221525.1_ASM222152v1_genomic.fna\", \"fasta\"))\n",
    "print(sequences[0])"
   ]
  },
  {
   "cell_type": "code",
   "execution_count": 159,
   "metadata": {},
   "outputs": [
    {
     "data": {
      "text/plain": [
       "'TCAACAATTT'"
      ]
     },
     "execution_count": 159,
     "metadata": {},
     "output_type": "execute_result"
    }
   ],
   "source": [
    "# extract sub-sequence (gene)\n",
    "start = 0\n",
    "end = 10\n",
    "str(sequences[0][start:end].seq)"
   ]
  },
  {
   "cell_type": "code",
   "execution_count": 161,
   "metadata": {},
   "outputs": [],
   "source": [
    "# Task 2: extract \"16S ribosomal RNA\" gene sequences from each organism:\n",
    "# - first locate genes with product = \"16S ribosomal RNA\"\n",
    "# - next get their coordinates (start and end)\n",
    "# - finally extract substrings from full genomic sequence\n",
    "\n",
    "def extract_gene(genome_id, gene_name):\n",
    "    sequences = []\n",
    "    # your code\n",
    "    \n",
    "    return sequences\n",
    "\n",
    "# Example output: [\"AGATAGATGAT...\", \"GGGATATAGTTT...\", ...]"
   ]
  },
  {
   "cell_type": "code",
   "execution_count": null,
   "metadata": {},
   "outputs": [],
   "source": []
  },
  {
   "cell_type": "code",
   "execution_count": 167,
   "metadata": {},
   "outputs": [
    {
     "name": "stdout",
     "output_type": "stream",
     "text": [
      "               gene-count\n",
      "genome-id                \n",
      "GCA_000000001           3\n",
      "GCA_000000002           4\n",
      "GCA_000000003           7\n"
     ]
    }
   ],
   "source": [
    "# Task 3: collect stat of gene count for \"16S ribosomal RNA\" gene\n",
    "def gene_count(gene_name):\n",
    "    # your code\n",
    "    return df_gene_stat\n",
    "\n",
    "# Example output: \n",
    "df_example = pd.DataFrame([{\"genome-id\": \"GCA_000000001\", \"gene-count\": 3}, \n",
    "                           {\"genome-id\": \"GCA_000000002\", \"gene-count\": 4}, \n",
    "                           {\"genome-id\": \"GCA_000000003\", \"gene-count\": 7}])\n",
    "df_example.set_index(\"genome-id\", inplace=True)\n",
    "print(df_example)"
   ]
  },
  {
   "cell_type": "code",
   "execution_count": null,
   "metadata": {},
   "outputs": [],
   "source": [
    "student_name = \"Student\"\n",
    "df_gene_stat = gene_count(\"16S ribosomal RNA\")\n",
    "df_gene_stat.to_csv(f\"./{student_name}.csv\")"
   ]
  },
  {
   "cell_type": "code",
   "execution_count": null,
   "metadata": {},
   "outputs": [],
   "source": []
  },
  {
   "cell_type": "markdown",
   "metadata": {},
   "source": [
    "### Building a tree using extracted genes"
   ]
  },
  {
   "cell_type": "code",
   "execution_count": 160,
   "metadata": {},
   "outputs": [],
   "source": [
    "# Task 4: build a tree using thus extracted 16S rRNA sequences:\n",
    "# - select ONE (!) 16S rRNA gene from each genome\n",
    "# - build a tree using 16S rRNA sequences (see Week 4)\n",
    "\n",
    "def build_tree(genes):\n",
    "    # your code\n",
    "    return tree"
   ]
  },
  {
   "cell_type": "code",
   "execution_count": null,
   "metadata": {},
   "outputs": [],
   "source": []
  }
 ],
 "metadata": {
  "kernelspec": {
   "display_name": "Python 3",
   "language": "python",
   "name": "python3"
  },
  "language_info": {
   "codemirror_mode": {
    "name": "ipython",
    "version": 3
   },
   "file_extension": ".py",
   "mimetype": "text/x-python",
   "name": "python",
   "nbconvert_exporter": "python",
   "pygments_lexer": "ipython3",
   "version": "3.7.9"
  }
 },
 "nbformat": 4,
 "nbformat_minor": 4
}
