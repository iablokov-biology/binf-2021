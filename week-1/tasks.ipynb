{
 "cells": [
  {
   "cell_type": "markdown",
   "metadata": {},
   "source": [
    "# Bioinformatics 2021: Week 1"
   ]
  },
  {
   "cell_type": "code",
   "execution_count": null,
   "metadata": {},
   "outputs": [],
   "source": [
    "# job offers: blastim.ru\n",
    "# more problems: rosalind.info\n",
    "# more courses: stepik.org, coursera.org, edx.org, openedu.ru, ..."
   ]
  },
  {
   "cell_type": "code",
   "execution_count": 3,
   "metadata": {},
   "outputs": [],
   "source": [
    "# Task 1: complement of a DNA sequence (True) or an RNA sequence (False)\n",
    "# - in case of an incorrect alphabet return \"\"\n",
    "\n",
    "def complement(sequence, is_dna=True):\n",
    "    comp = \"\"\n",
    "    # your code\n",
    "    \n",
    "    return comp\n",
    "\n",
    "# example 1: complement(\"ATGC\") -> \"TACG\"\n",
    "# example 2: complement(\"AUGC\", False) -> \"UACG\"\n",
    "# example 3: complement(\"ATGCXXX\") -> \"\""
   ]
  },
  {
   "cell_type": "code",
   "execution_count": null,
   "metadata": {},
   "outputs": [],
   "source": []
  },
  {
   "cell_type": "code",
   "execution_count": null,
   "metadata": {},
   "outputs": [],
   "source": [
    "# Task 2: reverse complement of a DNA sequence (True) or an RNA sequence (False)\n",
    "# - in case of an incorrect alphabet return \"\"\n",
    "\n",
    "def reverse_complement(sequence, is_dna=True):\n",
    "    rev_comp = \"\"\n",
    "    # your code\n",
    "    \n",
    "    return rev_comp\n",
    "\n",
    "# example 1: reverse_complement(\"ATGC\") -> \"GCAT\"\n",
    "# example 2: reverse_complement(\"AUGC\", False) -> \"GCAU\"\n",
    "# example 3: reverse_complement(\"ATGCXXX\") -> \"\""
   ]
  },
  {
   "cell_type": "code",
   "execution_count": null,
   "metadata": {},
   "outputs": [],
   "source": []
  },
  {
   "cell_type": "code",
   "execution_count": null,
   "metadata": {},
   "outputs": [],
   "source": [
    "# Task 3: sequence stats\n",
    "# - allowed values for \"type\": RNA, DNA, protein\n",
    "# - in case of an incorrect alphabet return {}\n",
    "\n",
    "def sequence_stats(sequence, type=\"DNA\"):\n",
    "    stats = {}\n",
    "    # your code\n",
    "    \n",
    "    return stats\n",
    "\n",
    "# example 1: sequence_stats(\"ATTGGT\", \"DNA\") -> {\"A\": 1, \"T\": 3, \"G\": 2, \"C\": 0}\n",
    "# example 2: sequence_stats(\"MVAAV\", \"protein\") -> {\"A\": 2, \"M\": 1, \"V\": 2, ...}  (include all aminoacids letters!)\n",
    "# example 3: sequence_stats(\"ATTGGTXXX\", \"DNA\") -> {}"
   ]
  },
  {
   "cell_type": "code",
   "execution_count": null,
   "metadata": {},
   "outputs": [],
   "source": []
  },
  {
   "cell_type": "code",
   "execution_count": null,
   "metadata": {},
   "outputs": [],
   "source": [
    "# Task 4: hamming distance (# of mismatches) for sequences of equal length\n",
    "# - in case of unequal lengths return -1\n",
    "\n",
    "def hamming_distance(sequence1, sequence2):\n",
    "    hamm = 0\n",
    "    # your code\n",
    "    \n",
    "    return hamm\n",
    "\n",
    "# example 1: hamming_distance(\"ATTGGT\", \"ATT\") -> -1\n",
    "# example 2: hamming_distance(\"ATTGGT\", \"ATTGGT\") -> 0\n",
    "# example 3: hamming_distance(\"ACCGGT\", \"ATCGGA\") -> 2"
   ]
  },
  {
   "cell_type": "code",
   "execution_count": null,
   "metadata": {},
   "outputs": [],
   "source": []
  },
  {
   "cell_type": "code",
   "execution_count": null,
   "metadata": {},
   "outputs": [],
   "source": [
    "# Task 5: p-consensus of a list of sequences of equal length\n",
    "# - calculate consensus symbol at each position with presence frequency of p or greater \n",
    "# - in case of unequal lengths return \"\"\n",
    "# - in case of an incorrect alphabet return \"\"\n",
    "\n",
    "def consensus(sequences, p=0.51):\n",
    "    cons = \"\"\n",
    "    # your code\n",
    "    \n",
    "    return cons\n",
    "\n",
    "# example 1: consensus([\"ATTGGT\", \"ATT\"], 0.6) -> \"\"\n",
    "# example 2: consensus([\"ATTGGT\", \"ATTGGT\", \"ATTGGT\"], 0.55) -> \"ATTGGT\"\n",
    "# example 3: consensus([\"TCTGCT\", \"CCTGGT\", \"CTTGAT\", \"CTTGAT\"], 0.8) -> \"--TG-T\""
   ]
  },
  {
   "cell_type": "code",
   "execution_count": null,
   "metadata": {},
   "outputs": [],
   "source": []
  },
  {
   "cell_type": "code",
   "execution_count": null,
   "metadata": {},
   "outputs": [],
   "source": [
    "# Task 6: find a motif in a sequence (including circular chromosomes)\n",
    "# return for each occurence of a motif a tuple consisting of:\n",
    "# - starting position\n",
    "# - ending position\n",
    "# - strand code: +1 for main strand, -1 for complement\n",
    "# - be careful with circular chromosomes!\n",
    "\n",
    "def motif(sequence, motif, circular=False):\n",
    "    motif_pos = []\n",
    "    # your code\n",
    "    \n",
    "    return motif_pos\n",
    "\n",
    "# example 1: motif(\"ATTGGT\", \"ATT\") -> [(0,2,+1)]\n",
    "# example 2: motif(\"ATTGGTATT\", \"ATT\") -> [(0,2,+1),(6,8,+1)]\n",
    "# example 3: motif(\"ATTAA\", \"ATT\") -> [(0,2,+1),(-1,1,-1)]\n",
    "# example 4: motif(\"ATTAAT\", \"ATT\", True) -> [(0,2,+1),(3,5,-1)]\n",
    "# example 5: motif(\"ATT\", \"AGCTCGTT\") -> []"
   ]
  },
  {
   "cell_type": "code",
   "execution_count": null,
   "metadata": {},
   "outputs": [],
   "source": []
  },
  {
   "cell_type": "code",
   "execution_count": null,
   "metadata": {},
   "outputs": [],
   "source": [
    "# Task 7: transcribe DNA to RNA (True) and back (False)\n",
    "# - basically it's a replacement T -> U\n",
    "\n",
    "def transcribe(sequence, dna_to_rna=True):\n",
    "    trans = \"\"\n",
    "    # your code\n",
    "    \n",
    "    return trans\n",
    "\n",
    "# example 1: transcribe(\"GATGGAA\") -> \"GAUGGAA\"\n",
    "# example 2: transcribe(\"GAUGGAA\", False) -> \"GATGGAA\""
   ]
  },
  {
   "cell_type": "code",
   "execution_count": null,
   "metadata": {},
   "outputs": [],
   "source": [
    "# Task 8: translate DNA (True) or RNA (False) to protein\n",
    "# - first find genetic code translation table!\n",
    "# - stop codon encodes no aminoacid and is represented as \"*\"\n",
    "# - DNA/RNA lenght should be a multiple of 3, an incomplete codon is represented as \".\"\n",
    "# - in case of an incorrect alphabet return \"\"\n",
    "\n",
    "def translate(sequence, is_dna=True):\n",
    "    trans = \"\"\n",
    "    # your code\n",
    "    \n",
    "    return trans\n",
    "\n",
    "# example 1: translate(\"ATGAGTGCGAGCTAC\") -> \"MSASY\"\n",
    "# example 2: translate(\"ATGACTCCGAGAGCTACGTAA\") -> \"MTPRAT*\"\n",
    "# example 3: translate(\"AUGAGUGCGAGCUAC\", False) -> \"MSASY\"\n",
    "# example 4: translate(\"AUGA\", False) -> \"M.\"\n",
    "# example 5: translate(\"AUGXXX\", False) -> \"\""
   ]
  }
 ],
 "metadata": {
  "kernelspec": {
   "display_name": "Python 3",
   "language": "python",
   "name": "python3"
  },
  "language_info": {
   "codemirror_mode": {
    "name": "ipython",
    "version": 3
   },
   "file_extension": ".py",
   "mimetype": "text/x-python",
   "name": "python",
   "nbconvert_exporter": "python",
   "pygments_lexer": "ipython3",
   "version": "3.7.9"
  }
 },
 "nbformat": 4,
 "nbformat_minor": 4
}
