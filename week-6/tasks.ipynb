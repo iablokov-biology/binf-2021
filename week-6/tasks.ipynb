{
 "cells": [
  {
   "cell_type": "markdown",
   "metadata": {},
   "source": [
    "# Bioinformatics 2021: Week 6"
   ]
  },
  {
   "cell_type": "code",
   "execution_count": null,
   "metadata": {},
   "outputs": [],
   "source": [
    "import pandas as pd\n",
    "import matplotlib.pyplot as plt"
   ]
  },
  {
   "cell_type": "markdown",
   "metadata": {},
   "source": [
    "### Multiple alignment"
   ]
  },
  {
   "cell_type": "code",
   "execution_count": null,
   "metadata": {},
   "outputs": [],
   "source": [
    "less ./muscle/test.in.fasta"
   ]
  },
  {
   "cell_type": "code",
   "execution_count": null,
   "metadata": {},
   "outputs": [],
   "source": [
    "fn_in = \"test.in.fasta\"\n",
    "fn_out = \"test.out.fasta\"\n",
    "\n",
    "fn_muscle_cmd = \"./muscle/run-muscle.bat\"\n",
    "f_muscle_cmd = open(fn_muscle_cmd, \"w\")\n",
    "f_muscle_cmd.write(f\"muscle -in {fn_in} -out {fn_out}\")\n",
    "f_muscle_cmd.close()"
   ]
  },
  {
   "cell_type": "code",
   "execution_count": null,
   "metadata": {},
   "outputs": [],
   "source": [
    "# run run-muscle.bat"
   ]
  },
  {
   "cell_type": "code",
   "execution_count": null,
   "metadata": {},
   "outputs": [],
   "source": [
    "less ./muscle/test.out.fasta"
   ]
  },
  {
   "cell_type": "markdown",
   "metadata": {},
   "source": [
    "### Working with pandas (continued)"
   ]
  },
  {
   "cell_type": "code",
   "execution_count": null,
   "metadata": {},
   "outputs": [],
   "source": [
    "seq_data = []\n",
    "seq_data.append({\"seq-id\": \"seq-0\", \"seq\": \"ATGAAGGGGATCC\"})\n",
    "seq_data.append({\"seq-id\": \"seq-1\", \"seq\": \"ATGAAGGATCG\"})\n",
    "seq_data.append({\"seq-id\": \"seq-2\", \"seq\": \"ATGAAGCTC\"})\n",
    "seq_data.append({\"seq-id\": \"seq-3\", \"seq\": \"TTTATGAAGCTCGG\"})\n",
    "seq_data.append({\"seq-id\": \"seq-4\", \"seq\": \"TAGCTGGCCG\"})\n",
    "seq_data.append({\"seq-id\": \"seq-5\", \"seq\": \"TAGCTACCCCGG\"})\n",
    "seq_data.append({\"seq-id\": \"seq-6\", \"seq\": \"CCCAGGG\"})\n",
    "seq_data.append({\"seq-id\": \"seq-7\", \"seq\": \"CG\"})\n",
    "seq_data.append({\"seq-id\": \"seq-8\", \"seq\": \"CGC\"})\n",
    "seq_data.append({\"seq-id\": \"seq-9\", \"seq\": \"CGGCGCGAGAGCGCGAGTTTC\"})\n",
    "\n",
    "df = pd.DataFrame(seq_data)"
   ]
  },
  {
   "cell_type": "code",
   "execution_count": null,
   "metadata": {},
   "outputs": [],
   "source": [
    "df"
   ]
  },
  {
   "cell_type": "code",
   "execution_count": null,
   "metadata": {},
   "outputs": [],
   "source": [
    "df[\"len\"] = df[\"seq\"].str.len()"
   ]
  },
  {
   "cell_type": "code",
   "execution_count": null,
   "metadata": {},
   "outputs": [],
   "source": [
    "df"
   ]
  },
  {
   "cell_type": "code",
   "execution_count": null,
   "metadata": {},
   "outputs": [],
   "source": [
    "plt.hist(df[\"len\"])"
   ]
  },
  {
   "cell_type": "code",
   "execution_count": null,
   "metadata": {},
   "outputs": [],
   "source": [
    "df[\"len\"].quantile(0.2), df[\"len\"].quantile(0.8)"
   ]
  },
  {
   "cell_type": "code",
   "execution_count": null,
   "metadata": {},
   "outputs": [],
   "source": [
    "# Task 1: from 16S rRNA sequences obtained in week 5 (one for each genome) extract sequences from 20th to 80th percentile by length\n",
    "def extract_by_length(sequences, pmin=0.2, pmax=0.8):\n",
    "    extracted_sequences = []\n",
    "    # your code (see week 5 on how to select data from pandas DataFrame)\n",
    "    return extracted_sequences"
   ]
  },
  {
   "cell_type": "code",
   "execution_count": null,
   "metadata": {},
   "outputs": [],
   "source": []
  },
  {
   "cell_type": "code",
   "execution_count": null,
   "metadata": {},
   "outputs": [],
   "source": [
    "# Task 2: run multiple alignment on 16S sequences on extracted sequences\n",
    "# Example output:\n",
    "#  CCT-------TTTGGAGGCATGCGTCTAGGGT...\n",
    "#  CCT-------TTTGGAGGCATGCGTCTAGGGT...\n",
    "#  --------------GAAGCGCATGTCAAGGAT...\n",
    "#  ---------ATTAGGAAGCGCATGTCAAGGAT...\n",
    "#  ---------ATTAGGAAGCGCATGTCAAGGAT...\n",
    "#  ---------ATTAGGAAGCGCATGTCAAGGAT...\n",
    "#  -------------AATAGCTACCTTCCACAGT...\n",
    "#  TTA--------------GCTACCGCCCACAGT...\n",
    "#  CTA--------------GTTACCGTCCACAGT..."
   ]
  },
  {
   "cell_type": "code",
   "execution_count": null,
   "metadata": {},
   "outputs": [],
   "source": []
  },
  {
   "cell_type": "code",
   "execution_count": null,
   "metadata": {},
   "outputs": [],
   "source": [
    "# Task 3: for the resulting multiple alignment calculate the fraction of \"A\", \"T\", \"G\", \"C\" and \"-\" in each position\n",
    "def nucleotide_stat(muscle_sequences):\n",
    "    df_stat_data = []\n",
    "    \n",
    "    # your code\n",
    "    df_stat = pd.DataFrame(df_stat_data)\n",
    "    return df_stat"
   ]
  },
  {
   "cell_type": "code",
   "execution_count": null,
   "metadata": {},
   "outputs": [],
   "source": [
    "# Example output: nucleotide_stat([\"ATGC...\", \"GCTA...\", ...]) -> \n",
    "df_stat_data = []\n",
    "df_stat_data.append({\"A\": 0.2, \"T\": 0.3, \"G\": 0.0, \"C\": 0.5, \"-\": 0.0})\n",
    "df_stat_data.append({\"A\": 0.12, \"T\": 0.2, \"G\": 0.0, \"C\": 0.6, \"-\": 0.08})\n",
    "df_stat_data.append({\"A\": 0.22, \"T\": 0.1, \"G\": 0.2, \"C\": 0.48, \"-\": 0.0})\n",
    "# ...\n",
    "df_stat = pd.DataFrame(df_stat_data)\n",
    "df_stat"
   ]
  },
  {
   "cell_type": "code",
   "execution_count": null,
   "metadata": {},
   "outputs": [],
   "source": [
    "# Task 4: calculate Shannon's entropy (p_i is the respective fraction of each letter i=A,T,G,C) for each position "
   ]
  },
  {
   "cell_type": "markdown",
   "metadata": {},
   "source": [
    "$S=-\\sum_{i\\in A,T,G,C}p_i \\times log(p_i)$"
   ]
  },
  {
   "cell_type": "code",
   "execution_count": null,
   "metadata": {},
   "outputs": [],
   "source": [
    "def shannon_entropy(df_stat):\n",
    "    entropy = # your code\n",
    "    return list(entropy)\n",
    "# Example output: shannon_entropy(stat) -> [0.0, 0.2, 0.3, 0.4, ...]"
   ]
  },
  {
   "cell_type": "code",
   "execution_count": null,
   "metadata": {},
   "outputs": [],
   "source": [
    "# you should see something like this (the same picture is in the article)"
   ]
  },
  {
   "cell_type": "code",
   "execution_count": null,
   "metadata": {},
   "outputs": [],
   "source": [
    "entropy = [0.2, 0.4, 0.3, 0.2, 0.3, 0.1, 0.05, 0.0, 0.0, 0.04, 0.0, 0.08, 0.01, 0.05, 0.0, 0.3, 0.4, 0.2, 0.3, 0.45, 0.3, 0.24, 0.22, 0.3, 0.4, 0.5, 0.2, 0.03, 0.01, 0.05, 0.0, 0.0, 0.0, 0.02, 0.03, 0.05, 0.0, 0.1, 0.07, 0.1, 0.2, 0.1, 0.2, 0.3, 0.33, 0.32, 0.1, 0.35, 0.23, 0.2, 0.1, 0.27]\n",
    "plt.plot(entropy)"
   ]
  },
  {
   "cell_type": "code",
   "execution_count": null,
   "metadata": {},
   "outputs": [],
   "source": []
  },
  {
   "cell_type": "code",
   "execution_count": null,
   "metadata": {},
   "outputs": [],
   "source": [
    "# Task 5: detect regions with low entropy (suggest your algorithm!)\n",
    "def low_entropy_regions(entropy):\n",
    "    regions = []\n",
    "    # regions\n",
    "    return regions\n",
    "# Example output: low_entropy_regions(entropy) -> [(7,13), (27,34), ...]"
   ]
  },
  {
   "cell_type": "code",
   "execution_count": null,
   "metadata": {},
   "outputs": [],
   "source": []
  },
  {
   "cell_type": "code",
   "execution_count": null,
   "metadata": {},
   "outputs": [],
   "source": [
    "# Task 6: calculate consensus string from the alignment (see week 1) for each region with low entropy\n",
    "def consensus(sequences, consensus_level=0.51):\n",
    "    consensus = \"\"\n",
    "    # your code \n",
    "    return consensus"
   ]
  },
  {
   "cell_type": "code",
   "execution_count": null,
   "metadata": {},
   "outputs": [],
   "source": [
    "# Save the result as a table with columns [\"from\", \"to\", \"consensus\"]"
   ]
  },
  {
   "cell_type": "code",
   "execution_count": null,
   "metadata": {},
   "outputs": [],
   "source": [
    "df_regions = pd.DataFrame([{\"from\": 7, \"to\": 13, \"consensus\": \"AGTCGGA\"}, {\"from\": 27, \"to\": 34, \"consensus\": \"CCCGCGCG\"}])\n",
    "df_regions.index.name = \"region\""
   ]
  },
  {
   "cell_type": "code",
   "execution_count": null,
   "metadata": {},
   "outputs": [],
   "source": [
    "df_regions"
   ]
  },
  {
   "cell_type": "code",
   "execution_count": null,
   "metadata": {},
   "outputs": [],
   "source": [
    "student = \"student\"\n",
    "df_regions.to_csv(f\"{student}.csv\")"
   ]
  },
  {
   "cell_type": "code",
   "execution_count": null,
   "metadata": {},
   "outputs": [],
   "source": []
  }
 ],
 "metadata": {
  "kernelspec": {
   "display_name": "Python 3",
   "language": "python",
   "name": "python3"
  },
  "language_info": {
   "codemirror_mode": {
    "name": "ipython",
    "version": 3
   },
   "file_extension": ".py",
   "mimetype": "text/x-python",
   "name": "python",
   "nbconvert_exporter": "python",
   "pygments_lexer": "ipython3",
   "version": "3.7.9"
  }
 },
 "nbformat": 4,
 "nbformat_minor": 4
}
