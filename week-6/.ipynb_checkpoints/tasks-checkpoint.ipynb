{
 "cells": [
  {
   "cell_type": "markdown",
   "metadata": {},
   "source": [
    "# Bioinformatics 2021: Week 6"
   ]
  },
  {
   "cell_type": "code",
   "execution_count": 2,
   "metadata": {},
   "outputs": [],
   "source": [
    "import pandas as pd\n",
    "import matplotlib.pyplot as plt"
   ]
  },
  {
   "cell_type": "markdown",
   "metadata": {},
   "source": [
    "### Multiple alignment"
   ]
  },
  {
   "cell_type": "code",
   "execution_count": 9,
   "metadata": {},
   "outputs": [],
   "source": [
    "less ./muscle/test.in.fasta"
   ]
  },
  {
   "cell_type": "code",
   "execution_count": 10,
   "metadata": {},
   "outputs": [],
   "source": [
    "fn_in = \"test.in.fasta\"\n",
    "fn_out = \"test.out.fasta\"\n",
    "\n",
    "fn_muscle_cmd = \"./muscle/run-muscle.bat\"\n",
    "f_muscle_cmd = open(fn_muscle_cmd, \"w\")\n",
    "f_muscle_cmd.write(f\"muscle -in {fn_in} -out {fn_out}\")\n",
    "f_muscle_cmd.close()"
   ]
  },
  {
   "cell_type": "code",
   "execution_count": 11,
   "metadata": {},
   "outputs": [],
   "source": [
    "# run run-muscle.bat"
   ]
  },
  {
   "cell_type": "code",
   "execution_count": 14,
   "metadata": {},
   "outputs": [],
   "source": [
    "less ./muscle/test.out.fasta"
   ]
  },
  {
   "cell_type": "markdown",
   "metadata": {},
   "source": [
    "### Working with pandas (continued)"
   ]
  },
  {
   "cell_type": "code",
   "execution_count": 15,
   "metadata": {},
   "outputs": [],
   "source": [
    "seq_data = []\n",
    "seq_data.append({\"seq-id\": \"seq-0\", \"seq\": \"ATGAAGGGGATCC\"})\n",
    "seq_data.append({\"seq-id\": \"seq-1\", \"seq\": \"ATGAAGGATCG\"})\n",
    "seq_data.append({\"seq-id\": \"seq-2\", \"seq\": \"ATGAAGCTC\"})\n",
    "seq_data.append({\"seq-id\": \"seq-3\", \"seq\": \"TTTATGAAGCTCGG\"})\n",
    "seq_data.append({\"seq-id\": \"seq-4\", \"seq\": \"TAGCTGGCCG\"})\n",
    "seq_data.append({\"seq-id\": \"seq-5\", \"seq\": \"TAGCTACCCCGG\"})\n",
    "seq_data.append({\"seq-id\": \"seq-6\", \"seq\": \"CCCAGGG\"})\n",
    "seq_data.append({\"seq-id\": \"seq-7\", \"seq\": \"CG\"})\n",
    "seq_data.append({\"seq-id\": \"seq-8\", \"seq\": \"CGC\"})\n",
    "seq_data.append({\"seq-id\": \"seq-9\", \"seq\": \"CGGCGCGAGAGCGCGAGTTTC\"})\n",
    "\n",
    "df = pd.DataFrame(seq_data)"
   ]
  },
  {
   "cell_type": "code",
   "execution_count": 16,
   "metadata": {},
   "outputs": [
    {
     "data": {
      "text/html": [
       "<div>\n",
       "<style scoped>\n",
       "    .dataframe tbody tr th:only-of-type {\n",
       "        vertical-align: middle;\n",
       "    }\n",
       "\n",
       "    .dataframe tbody tr th {\n",
       "        vertical-align: top;\n",
       "    }\n",
       "\n",
       "    .dataframe thead th {\n",
       "        text-align: right;\n",
       "    }\n",
       "</style>\n",
       "<table border=\"1\" class=\"dataframe\">\n",
       "  <thead>\n",
       "    <tr style=\"text-align: right;\">\n",
       "      <th></th>\n",
       "      <th>seq-id</th>\n",
       "      <th>seq</th>\n",
       "    </tr>\n",
       "  </thead>\n",
       "  <tbody>\n",
       "    <tr>\n",
       "      <th>0</th>\n",
       "      <td>seq-0</td>\n",
       "      <td>ATGAAGGGGATCC</td>\n",
       "    </tr>\n",
       "    <tr>\n",
       "      <th>1</th>\n",
       "      <td>seq-1</td>\n",
       "      <td>ATGAAGGATCG</td>\n",
       "    </tr>\n",
       "    <tr>\n",
       "      <th>2</th>\n",
       "      <td>seq-2</td>\n",
       "      <td>ATGAAGCTC</td>\n",
       "    </tr>\n",
       "    <tr>\n",
       "      <th>3</th>\n",
       "      <td>seq-3</td>\n",
       "      <td>TTTATGAAGCTCGG</td>\n",
       "    </tr>\n",
       "    <tr>\n",
       "      <th>4</th>\n",
       "      <td>seq-4</td>\n",
       "      <td>TAGCTGGCCG</td>\n",
       "    </tr>\n",
       "    <tr>\n",
       "      <th>5</th>\n",
       "      <td>seq-5</td>\n",
       "      <td>TAGCTACCCCGG</td>\n",
       "    </tr>\n",
       "    <tr>\n",
       "      <th>6</th>\n",
       "      <td>seq-6</td>\n",
       "      <td>CCCAGGG</td>\n",
       "    </tr>\n",
       "    <tr>\n",
       "      <th>7</th>\n",
       "      <td>seq-7</td>\n",
       "      <td>CG</td>\n",
       "    </tr>\n",
       "    <tr>\n",
       "      <th>8</th>\n",
       "      <td>seq-8</td>\n",
       "      <td>CGC</td>\n",
       "    </tr>\n",
       "    <tr>\n",
       "      <th>9</th>\n",
       "      <td>seq-9</td>\n",
       "      <td>CGGCGCGAGAGCGCGAGTTTC</td>\n",
       "    </tr>\n",
       "  </tbody>\n",
       "</table>\n",
       "</div>"
      ],
      "text/plain": [
       "  seq-id                    seq\n",
       "0  seq-0          ATGAAGGGGATCC\n",
       "1  seq-1            ATGAAGGATCG\n",
       "2  seq-2              ATGAAGCTC\n",
       "3  seq-3         TTTATGAAGCTCGG\n",
       "4  seq-4             TAGCTGGCCG\n",
       "5  seq-5           TAGCTACCCCGG\n",
       "6  seq-6                CCCAGGG\n",
       "7  seq-7                     CG\n",
       "8  seq-8                    CGC\n",
       "9  seq-9  CGGCGCGAGAGCGCGAGTTTC"
      ]
     },
     "execution_count": 16,
     "metadata": {},
     "output_type": "execute_result"
    }
   ],
   "source": [
    "df"
   ]
  },
  {
   "cell_type": "code",
   "execution_count": 17,
   "metadata": {},
   "outputs": [],
   "source": [
    "df[\"len\"] = df[\"seq\"].str.len()"
   ]
  },
  {
   "cell_type": "code",
   "execution_count": 18,
   "metadata": {},
   "outputs": [
    {
     "data": {
      "text/html": [
       "<div>\n",
       "<style scoped>\n",
       "    .dataframe tbody tr th:only-of-type {\n",
       "        vertical-align: middle;\n",
       "    }\n",
       "\n",
       "    .dataframe tbody tr th {\n",
       "        vertical-align: top;\n",
       "    }\n",
       "\n",
       "    .dataframe thead th {\n",
       "        text-align: right;\n",
       "    }\n",
       "</style>\n",
       "<table border=\"1\" class=\"dataframe\">\n",
       "  <thead>\n",
       "    <tr style=\"text-align: right;\">\n",
       "      <th></th>\n",
       "      <th>seq-id</th>\n",
       "      <th>seq</th>\n",
       "      <th>len</th>\n",
       "    </tr>\n",
       "  </thead>\n",
       "  <tbody>\n",
       "    <tr>\n",
       "      <th>0</th>\n",
       "      <td>seq-0</td>\n",
       "      <td>ATGAAGGGGATCC</td>\n",
       "      <td>13</td>\n",
       "    </tr>\n",
       "    <tr>\n",
       "      <th>1</th>\n",
       "      <td>seq-1</td>\n",
       "      <td>ATGAAGGATCG</td>\n",
       "      <td>11</td>\n",
       "    </tr>\n",
       "    <tr>\n",
       "      <th>2</th>\n",
       "      <td>seq-2</td>\n",
       "      <td>ATGAAGCTC</td>\n",
       "      <td>9</td>\n",
       "    </tr>\n",
       "    <tr>\n",
       "      <th>3</th>\n",
       "      <td>seq-3</td>\n",
       "      <td>TTTATGAAGCTCGG</td>\n",
       "      <td>14</td>\n",
       "    </tr>\n",
       "    <tr>\n",
       "      <th>4</th>\n",
       "      <td>seq-4</td>\n",
       "      <td>TAGCTGGCCG</td>\n",
       "      <td>10</td>\n",
       "    </tr>\n",
       "    <tr>\n",
       "      <th>5</th>\n",
       "      <td>seq-5</td>\n",
       "      <td>TAGCTACCCCGG</td>\n",
       "      <td>12</td>\n",
       "    </tr>\n",
       "    <tr>\n",
       "      <th>6</th>\n",
       "      <td>seq-6</td>\n",
       "      <td>CCCAGGG</td>\n",
       "      <td>7</td>\n",
       "    </tr>\n",
       "    <tr>\n",
       "      <th>7</th>\n",
       "      <td>seq-7</td>\n",
       "      <td>CG</td>\n",
       "      <td>2</td>\n",
       "    </tr>\n",
       "    <tr>\n",
       "      <th>8</th>\n",
       "      <td>seq-8</td>\n",
       "      <td>CGC</td>\n",
       "      <td>3</td>\n",
       "    </tr>\n",
       "    <tr>\n",
       "      <th>9</th>\n",
       "      <td>seq-9</td>\n",
       "      <td>CGGCGCGAGAGCGCGAGTTTC</td>\n",
       "      <td>21</td>\n",
       "    </tr>\n",
       "  </tbody>\n",
       "</table>\n",
       "</div>"
      ],
      "text/plain": [
       "  seq-id                    seq  len\n",
       "0  seq-0          ATGAAGGGGATCC   13\n",
       "1  seq-1            ATGAAGGATCG   11\n",
       "2  seq-2              ATGAAGCTC    9\n",
       "3  seq-3         TTTATGAAGCTCGG   14\n",
       "4  seq-4             TAGCTGGCCG   10\n",
       "5  seq-5           TAGCTACCCCGG   12\n",
       "6  seq-6                CCCAGGG    7\n",
       "7  seq-7                     CG    2\n",
       "8  seq-8                    CGC    3\n",
       "9  seq-9  CGGCGCGAGAGCGCGAGTTTC   21"
      ]
     },
     "execution_count": 18,
     "metadata": {},
     "output_type": "execute_result"
    }
   ],
   "source": [
    "df"
   ]
  },
  {
   "cell_type": "code",
   "execution_count": 19,
   "metadata": {},
   "outputs": [
    {
     "data": {
      "text/plain": [
       "(array([2., 0., 1., 1., 2., 2., 1., 0., 0., 1.]),\n",
       " array([ 2. ,  3.9,  5.8,  7.7,  9.6, 11.5, 13.4, 15.3, 17.2, 19.1, 21. ]),\n",
       " <BarContainer object of 10 artists>)"
      ]
     },
     "execution_count": 19,
     "metadata": {},
     "output_type": "execute_result"
    },
    {
     "data": {
      "image/png": "[encoded data removed]",
      "text/plain": [
       "<Figure size 432x288 with 1 Axes>"
      ]
     },
     "metadata": {
      "needs_background": "light"
     },
     "output_type": "display_data"
    }
   ],
   "source": [
    "plt.hist(df[\"len\"])"
   ]
  },
  {
   "cell_type": "code",
   "execution_count": 20,
   "metadata": {},
   "outputs": [
    {
     "data": {
      "text/plain": [
       "(6.2, 13.200000000000001)"
      ]
     },
     "execution_count": 20,
     "metadata": {},
     "output_type": "execute_result"
    }
   ],
   "source": [
    "df[\"len\"].quantile(0.2), df[\"len\"].quantile(0.8)"
   ]
  },
  {
   "cell_type": "code",
   "execution_count": 21,
   "metadata": {},
   "outputs": [],
   "source": [
    "# Task 1: from 16S rRNA sequences obtained in week 5 (one for each genome) extract sequences from 20th to 80th percentile by length\n",
    "def extract_by_length(sequences, pmin=0.2, pmax=0.8):\n",
    "    extracted_sequences = []\n",
    "    # your code (see week 5 on how to select data from pandas DataFrame)\n",
    "    return extracted_sequences"
   ]
  },
  {
   "cell_type": "code",
   "execution_count": null,
   "metadata": {},
   "outputs": [],
   "source": []
  },
  {
   "cell_type": "code",
   "execution_count": 22,
   "metadata": {},
   "outputs": [],
   "source": [
    "# Task 2: run multiple alignment on 16S sequences on extracted sequences\n",
    "# Example output:\n",
    "#  CCT-------TTTGGAGGCATGCGTCTAGGGT...\n",
    "#  CCT-------TTTGGAGGCATGCGTCTAGGGT...\n",
    "#  --------------GAAGCGCATGTCAAGGAT...\n",
    "#  ---------ATTAGGAAGCGCATGTCAAGGAT...\n",
    "#  ---------ATTAGGAAGCGCATGTCAAGGAT...\n",
    "#  ---------ATTAGGAAGCGCATGTCAAGGAT...\n",
    "#  -------------AATAGCTACCTTCCACAGT...\n",
    "#  TTA--------------GCTACCGCCCACAGT...\n",
    "#  CTA--------------GTTACCGTCCACAGT..."
   ]
  },
  {
   "cell_type": "code",
   "execution_count": null,
   "metadata": {},
   "outputs": [],
   "source": []
  },
  {
   "cell_type": "code",
   "execution_count": 23,
   "metadata": {},
   "outputs": [],
   "source": [
    "# Task 3: for the resulting multiple alignment calculate the fraction of \"A\", \"T\", \"G\", \"C\" and \"-\" in each position\n",
    "def nucleotide_stat(muscle_sequences):\n",
    "    df_stat_data = []\n",
    "    \n",
    "    # your code\n",
    "    df_stat = pd.DataFrame(df_stat_data)\n",
    "    return df_stat"
   ]
  },
  {
   "cell_type": "code",
   "execution_count": 24,
   "metadata": {},
   "outputs": [
    {
     "data": {
      "text/html": [
       "<div>\n",
       "<style scoped>\n",
       "    .dataframe tbody tr th:only-of-type {\n",
       "        vertical-align: middle;\n",
       "    }\n",
       "\n",
       "    .dataframe tbody tr th {\n",
       "        vertical-align: top;\n",
       "    }\n",
       "\n",
       "    .dataframe thead th {\n",
       "        text-align: right;\n",
       "    }\n",
       "</style>\n",
       "<table border=\"1\" class=\"dataframe\">\n",
       "  <thead>\n",
       "    <tr style=\"text-align: right;\">\n",
       "      <th></th>\n",
       "      <th>A</th>\n",
       "      <th>T</th>\n",
       "      <th>G</th>\n",
       "      <th>C</th>\n",
       "      <th>-</th>\n",
       "    </tr>\n",
       "  </thead>\n",
       "  <tbody>\n",
       "    <tr>\n",
       "      <th>0</th>\n",
       "      <td>0.20</td>\n",
       "      <td>0.3</td>\n",
       "      <td>0.0</td>\n",
       "      <td>0.50</td>\n",
       "      <td>0.00</td>\n",
       "    </tr>\n",
       "    <tr>\n",
       "      <th>1</th>\n",
       "      <td>0.12</td>\n",
       "      <td>0.2</td>\n",
       "      <td>0.0</td>\n",
       "      <td>0.60</td>\n",
       "      <td>0.08</td>\n",
       "    </tr>\n",
       "    <tr>\n",
       "      <th>2</th>\n",
       "      <td>0.22</td>\n",
       "      <td>0.1</td>\n",
       "      <td>0.2</td>\n",
       "      <td>0.48</td>\n",
       "      <td>0.00</td>\n",
       "    </tr>\n",
       "  </tbody>\n",
       "</table>\n",
       "</div>"
      ],
      "text/plain": [
       "      A    T    G     C     -\n",
       "0  0.20  0.3  0.0  0.50  0.00\n",
       "1  0.12  0.2  0.0  0.60  0.08\n",
       "2  0.22  0.1  0.2  0.48  0.00"
      ]
     },
     "execution_count": 24,
     "metadata": {},
     "output_type": "execute_result"
    }
   ],
   "source": [
    "# Example output: nucleotide_stat([\"ATGC...\", \"GCTA...\", ...]) -> \n",
    "df_stat_data = []\n",
    "df_stat_data.append({\"A\": 0.2, \"T\": 0.3, \"G\": 0.0, \"C\": 0.5, \"-\": 0.0})\n",
    "df_stat_data.append({\"A\": 0.12, \"T\": 0.2, \"G\": 0.0, \"C\": 0.6, \"-\": 0.08})\n",
    "df_stat_data.append({\"A\": 0.22, \"T\": 0.1, \"G\": 0.2, \"C\": 0.48, \"-\": 0.0})\n",
    "# ...\n",
    "df_stat = pd.DataFrame(df_stat_data)\n",
    "df_stat"
   ]
  },
  {
   "cell_type": "code",
   "execution_count": null,
   "metadata": {},
   "outputs": [],
   "source": [
    "# Task 4: calculate Shannon's entropy (p_i is the respective fraction of each letter i=A,T,G,C) for each position "
   ]
  },
  {
   "cell_type": "markdown",
   "metadata": {},
   "source": [
    "$S=-\\sum_{i\\in A,T,G,C}p_i \\times log(p_i)$"
   ]
  },
  {
   "cell_type": "code",
   "execution_count": 26,
   "metadata": {},
   "outputs": [],
   "source": [
    "def shannon_entropy(df_stat):\n",
    "    entropy = # your code\n",
    "    return list(entropy)\n",
    "# Example output: shannon_entropy(stat) -> [0.0, 0.2, 0.3, 0.4, ...]"
   ]
  },
  {
   "cell_type": "code",
   "execution_count": 29,
   "metadata": {},
   "outputs": [],
   "source": [
    "# you should see something like this (the same picture is in the article)"
   ]
  },
  {
   "cell_type": "code",
   "execution_count": 30,
   "metadata": {},
   "outputs": [
    {
     "data": {
      "text/plain": [
       "[<matplotlib.lines.Line2D at 0x26070c384c8>]"
      ]
     },
     "execution_count": 30,
     "metadata": {},
     "output_type": "execute_result"
    },
    {
     "data": {
      "image/png": "[encoded data removed]",
      "text/plain": [
       "<Figure size 432x288 with 1 Axes>"
      ]
     },
     "metadata": {
      "needs_background": "light"
     },
     "output_type": "display_data"
    }
   ],
   "source": [
    "entropy = [0.2, 0.4, 0.3, 0.2, 0.3, 0.1, 0.05, 0.0, 0.0, 0.04, 0.0, 0.08, 0.01, 0.05, 0.0, 0.3, 0.4, 0.2, 0.3, 0.45, 0.3, 0.24, 0.22, 0.3, 0.4, 0.5, 0.2, 0.03, 0.01, 0.05, 0.0, 0.0, 0.0, 0.02, 0.03, 0.05, 0.0, 0.1, 0.07, 0.1, 0.2, 0.1, 0.2, 0.3, 0.33, 0.32, 0.1, 0.35, 0.23, 0.2, 0.1, 0.27]\n",
    "plt.plot(entropy)"
   ]
  },
  {
   "cell_type": "code",
   "execution_count": null,
   "metadata": {},
   "outputs": [],
   "source": []
  },
  {
   "cell_type": "code",
   "execution_count": 31,
   "metadata": {},
   "outputs": [],
   "source": [
    "# Task 5: detect regions with low entropy (suggest your algorithm!)\n",
    "def low_entropy_regions(entropy):\n",
    "    regions = []\n",
    "    # regions\n",
    "    return regions\n",
    "# Example output: low_entropy_regions(entropy) -> [(7,13), (27,34), ...]"
   ]
  },
  {
   "cell_type": "code",
   "execution_count": null,
   "metadata": {},
   "outputs": [],
   "source": []
  },
  {
   "cell_type": "code",
   "execution_count": null,
   "metadata": {},
   "outputs": [],
   "source": [
    "# Task 6: calculate consensus string from the alignment (see week 1) for each region with low entropy\n",
    "def consensus(sequences, consensus_level=0.51):\n",
    "    consensus = \"\"\n",
    "    # your code \n",
    "    return consensus"
   ]
  },
  {
   "cell_type": "code",
   "execution_count": null,
   "metadata": {},
   "outputs": [],
   "source": [
    "# Save the result as a table with columns [\"from\", \"to\", \"consensus\"]"
   ]
  },
  {
   "cell_type": "code",
   "execution_count": null,
   "metadata": {},
   "outputs": [],
   "source": [
    "df_regions = pd.DataFrame([{\"from\": 7, \"to\": 13, \"consensus\": \"AGTCGGA\"}, {\"from\": 27, \"to\": 34, \"consensus\": \"CCCGCGCG\"}])\n",
    "df_regions.index.name = \"region\""
   ]
  },
  {
   "cell_type": "code",
   "execution_count": null,
   "metadata": {},
   "outputs": [],
   "source": [
    "df_regions"
   ]
  },
  {
   "cell_type": "code",
   "execution_count": null,
   "metadata": {},
   "outputs": [],
   "source": [
    "student = \"student\"\n",
    "df_regions.to_csv(f\"{student}.csv\")"
   ]
  },
  {
   "cell_type": "code",
   "execution_count": null,
   "metadata": {},
   "outputs": [],
   "source": []
  }
 ],
 "metadata": {
  "kernelspec": {
   "display_name": "Python 3",
   "language": "python",
   "name": "python3"
  },
  "language_info": {
   "codemirror_mode": {
    "name": "ipython",
    "version": 3
   },
   "file_extension": ".py",
   "mimetype": "text/x-python",
   "name": "python",
   "nbconvert_exporter": "python",
   "pygments_lexer": "ipython3",
   "version": "3.7.9"
  }
 },
 "nbformat": 4,
 "nbformat_minor": 4
}
