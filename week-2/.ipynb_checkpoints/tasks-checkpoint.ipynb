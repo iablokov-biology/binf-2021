{
 "cells": [
  {
   "cell_type": "markdown",
   "metadata": {},
   "source": [
    "# Bioinformatics 2021: Week 2"
   ]
  },
  {
   "cell_type": "code",
   "execution_count": null,
   "metadata": {},
   "outputs": [],
   "source": [
    "# Task 1: read fasta file\n",
    "# https://en.wikipedia.org/wiki/FASTA_format\n",
    "def load_fasta(file_path):\n",
    "    sequences = []\n",
    "    # your code\n",
    "    \n",
    "    return sequences\n",
    "\n",
    "# example 1: load_fasta(\"./examples/sequences.fasta\") -> \n",
    "#              [\n",
    "#                {\"seq_id\": \"Seq_1\", \"seq\": \"ATGC\"},\n",
    "#                {\"seq_id\": \"Seq_2\", \"seq\": \"GCTA\"},\n",
    "#                {\"seq_id\": \"Seq_3\", \"seq\": \"AAAAAA\"}\n",
    "#              ]\n",
    "# example 2: load_fasta(\"./examples/$%^&*(.fasta\") -> []"
   ]
  },
  {
   "cell_type": "code",
   "execution_count": null,
   "metadata": {},
   "outputs": [],
   "source": []
  },
  {
   "cell_type": "code",
   "execution_count": null,
   "metadata": {},
   "outputs": [],
   "source": [
    "# Task 2: write fasta file\n",
    "def save_fasta(file_path, fasta_sequences):\n",
    "    # your code\n",
    "    \n",
    "    return 0\n",
    "# fasta_sequences = [\n",
    "#                    {\"seq_id\": \"Seq_1\", \"seq\": \"ATGC\"},\n",
    "#                    {\"seq_id\": \"Seq_2\", \"seq\": \"GCTA\"},\n",
    "#                    {\"seq_id\": \"Seq_3\", \"seq\": \"AAAAAA\"}\n",
    "#                  ]\n",
    "# example 1: save_fasta(\"./examples/sequences-output.fasta\", fasta_sequences) -> 0\n",
    "# example 2: save_fasta(\"./xxx/sequences.fasta\", fasta_sequences) -> -1"
   ]
  },
  {
   "cell_type": "code",
   "execution_count": null,
   "metadata": {},
   "outputs": [],
   "source": []
  },
  {
   "cell_type": "code",
   "execution_count": null,
   "metadata": {},
   "outputs": [],
   "source": [
    "# Task 3: read fastq file\n",
    "# https://en.wikipedia.org/wiki/FASTQ_format\n",
    "\n",
    "def load_fastq(file_path):\n",
    "    sequences = []\n",
    "    # your code\n",
    "    \n",
    "    return sequences\n",
    "\n",
    "# example 1: load_fastq(\"./examples/sequences.fastq\") -> \n",
    "#              [\n",
    "#                {\n",
    "#                   \"seq_id\":  \"ERR1382431.1 Plate43.5_116/1\", \n",
    "#                   \"seq\":     \"TACGTATGGTGCAAGCGTTATCCGGATTTACTG\",\n",
    "#                   \"comment\": \"\",\n",
    "#                   \"quality\": \"BABBBFFFFFFFFFGGGGGEGGHGGGGGHHFHH\"\n",
    "#                 },\n",
    "#                 { ... },\n",
    "#                  ...\n",
    "#              ]\n",
    "# example 2: load_fastq(\"./examples/$%^&*(.fasta\") -> []"
   ]
  },
  {
   "cell_type": "code",
   "execution_count": null,
   "metadata": {},
   "outputs": [],
   "source": []
  },
  {
   "cell_type": "code",
   "execution_count": null,
   "metadata": {},
   "outputs": [],
   "source": [
    "# Task 4: convert quality to error probabilities\n",
    "# https://www.drive5.com/usearch/manual/quality_score.html\n",
    "def quality_to_probability(quality_sting):\n",
    "    probabilities = []\n",
    "    # your code\n",
    "    \n",
    "    return probabilities\n",
    "\n",
    "# example 1: quality_to_probability(\"!BJ\") -> [1.0, 0.00050, 0.00008] \n",
    "# example 2: quality_to_probability(\"HJAXYZ\") -> []"
   ]
  },
  {
   "cell_type": "code",
   "execution_count": null,
   "metadata": {},
   "outputs": [],
   "source": []
  },
  {
   "cell_type": "code",
   "execution_count": null,
   "metadata": {},
   "outputs": [],
   "source": [
    "# Task 5: calculate expected number of errors (EE)\n",
    "# Q: how to calculate EE given corresponding probabilities?\n",
    "# bad fastq sequence: wrong alphabet (only DNA) in quality and nucleotides, len(\"seq\") != len(\"quality\")\n",
    "def expected_errors(fastq_sequence):\n",
    "    expected_errors = 0\n",
    "    # your code\n",
    "    \n",
    "    return expected_errors\n",
    "\n",
    "# fastq_sequence = {\n",
    "#                   \"seq_id\":  \"ERR1382431.1 Plate43.5_116/1\", \n",
    "#                   \"seq\":     \"TACGTATGGTGCAAGCGTTATCCGGATTTACTG\",\n",
    "#                   \"comment\": \"\",\n",
    "#                   \"quality\": \"BABBBFFFFFFFFFGGGGGEGGHGGGGGHHFHH\"\n",
    "#                  }\n",
    "# example 1: expected_errors(fastq_sequence) -> ???\n",
    "# example 2: expected_errors(bad_fastq_sequence) -> -1"
   ]
  },
  {
   "cell_type": "code",
   "execution_count": null,
   "metadata": {},
   "outputs": [],
   "source": []
  },
  {
   "cell_type": "code",
   "execution_count": null,
   "metadata": {},
   "outputs": [],
   "source": [
    "# Task 6: filter sequences according to the EE threshold\n",
    "# if EE > th then the sequence is discarded\n",
    "def filter_ee(fastq_sequences, th=2):\n",
    "    filtered_sequences = []\n",
    "    # your code\n",
    "    \n",
    "    return filtered_sequences\n",
    "\n",
    "# example 1: filter_ee([{1},{2},{3},{4},...]) -> [{2},{4},...]"
   ]
  },
  {
   "cell_type": "code",
   "execution_count": null,
   "metadata": {},
   "outputs": [],
   "source": []
  },
  {
   "cell_type": "code",
   "execution_count": 1,
   "metadata": {},
   "outputs": [
    {
     "data": {
      "text/plain": [
       "[<matplotlib.lines.Line2D at 0x1c197a6bfc8>]"
      ]
     },
     "execution_count": 1,
     "metadata": {},
     "output_type": "execute_result"
    },
    {
     "data": {
      "image/png": "[encoded data removed]",
      "text/plain": [
       "<Figure size 432x288 with 1 Axes>"
      ]
     },
     "metadata": {
      "needs_background": "light"
     },
     "output_type": "display_data"
    }
   ],
   "source": [
    "# Task 7: plot the dependence for EE vs. % of discarded sequences\n",
    "# - first:  collect # of discarded sequences with filter_ee for EE in [1,2,3,5,8,11,16,20]\n",
    "# - second: plot EE vs % of discarded sequences\n",
    "import matplotlib.pyplot as plt\n",
    "x = [1,2,3,4,5,6]\n",
    "y = [1,4,9,16,25,36]\n",
    "plt.xlabel(\"EE value\")\n",
    "plt.ylabel(\"% of filtered sequences\")\n",
    "plt.plot(x,y)"
   ]
  },
  {
   "cell_type": "code",
   "execution_count": null,
   "metadata": {},
   "outputs": [],
   "source": [
    "# Task 8: join paired-end sequences\n",
    "# try different thresholds (min_overlap / max_error) such that some sequences are not joined!\n",
    "def join_paired_end(seq_forward, seq_reverse, min_overlap=12, max_error=2):\n",
    "    seq_joined = \"\"\n",
    "    # your code\n",
    "    \n",
    "    return seq_joined\n",
    "\n",
    "# --->--->--->--->\n",
    "# CCCCCCCAAAAA\n",
    "#        [...] <- overlap region\n",
    "#        TTTTTGGG\n",
    "# <---<---<---<---\n",
    "#         \n",
    "\n",
    "# example 1: join_paired_end(\"CCCCCCCAAAAA\", \"GGGTTTTT\", 4, 0) -> \"CCCCCCCAAAAACCC\"\n",
    "# example 2: join_paired_end(\"CCCCCCCAACAA\", \"GGGTTTTT\", 5, 1) -> \"CCCCCCCAACAACCC\"\n",
    "# example 3: join_paired_end(\"CCCCCCCAACAC\", \"GGGTTTTT\", 5, 1) -> \"\""
   ]
  },
  {
   "cell_type": "code",
   "execution_count": null,
   "metadata": {},
   "outputs": [],
   "source": []
  },
  {
   "cell_type": "code",
   "execution_count": null,
   "metadata": {},
   "outputs": [],
   "source": [
    "# Task 9: filter & join sequences from paired-end data\n",
    "# - filter sequences in each file (forward and reverse)\n",
    "# - select those \"survived\" with the same seq_id from both files\n",
    "# - join sequences and write output as fasta file\n",
    "# - report stats (filtered-forward, filtered-reverse, filtered-both, non-joined, joined)\n",
    "\n",
    "# your sample to analyze (sort samples by name and choose n-th the sample, where n is your position in the list of students)\n",
    "sample_forward = \"ERR....._1.fastq.gz\"\n",
    "sample_reverse = \"ERR....._2.fastq.gz\"\n",
    "\n",
    "def filter_and_join(filename_forward, filename_reverse, filename_joined):\n",
    "    stats = {\"filtered-forward\": 0, \"filtered-reverse\": 0, \"filtered-both\": 0, \"non-joined\": 0, \"joined\": 0}\n",
    "    # your code\n",
    "    \n",
    "    return stats"
   ]
  },
  {
   "cell_type": "code",
   "execution_count": null,
   "metadata": {},
   "outputs": [],
   "source": []
  },
  {
   "cell_type": "code",
   "execution_count": null,
   "metadata": {},
   "outputs": [],
   "source": [
    "# Task X: determine which bacteria are present in your sample\n",
    "# 1. Go to https://blast.ncbi.nlm.nih.gov/Blast.cgi\n",
    "# 2. Click \"Nucleotide BLAST\"\n",
    "# 3. Select database \"rRNA/ITS databases\" -> \"16S ribosomal RNA sequences (Bacteria and Archaea)\"\n",
    "# 4. Put one (or several) sequences from your sample into \"Enter Query Sequence\" field.\n",
    "# 5. Click \"BLAST\""
   ]
  },
  {
   "cell_type": "code",
   "execution_count": null,
   "metadata": {},
   "outputs": [],
   "source": []
  }
 ],
 "metadata": {
  "kernelspec": {
   "display_name": "Python 3",
   "language": "python",
   "name": "python3"
  },
  "language_info": {
   "codemirror_mode": {
    "name": "ipython",
    "version": 3
   },
   "file_extension": ".py",
   "mimetype": "text/x-python",
   "name": "python",
   "nbconvert_exporter": "python",
   "pygments_lexer": "ipython3",
   "version": "3.7.9"
  }
 },
 "nbformat": 4,
 "nbformat_minor": 4
}
