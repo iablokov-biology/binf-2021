{
 "cells": [
  {
   "cell_type": "markdown",
   "metadata": {},
   "source": [
    "# Bioinformatics 2021: Week 4"
   ]
  },
  {
   "cell_type": "markdown",
   "metadata": {},
   "source": [
    "### Working with BioPython"
   ]
  },
  {
   "cell_type": "code",
   "execution_count": 8,
   "metadata": {},
   "outputs": [],
   "source": [
    "from Bio import pairwise2\n",
    "from Bio.pairwise2 import format_alignment"
   ]
  },
  {
   "cell_type": "code",
   "execution_count": 9,
   "metadata": {},
   "outputs": [
    {
     "name": "stdout",
     "output_type": "stream",
     "text": [
      "AGTCGATGCGATAGCCGTA\n",
      "||||| |||||.||||.||\n",
      "AGTCG-TGCGAAAGCCCTA\n",
      "  Score=28\n",
      "\n"
     ]
    }
   ],
   "source": [
    "alignments = pairwise2.align.globalms(\"AGTCGATGCGATAGCCGTA\", \"AGTCGTGCGAAAGCCCTA\", 2, -1.5, -1, -0.5)\n",
    "print(format_alignment(*alignments[0]))"
   ]
  },
  {
   "cell_type": "code",
   "execution_count": 10,
   "metadata": {},
   "outputs": [
    {
     "data": {
      "text/plain": [
       "('AGTCGATGCGATAGCCGTA', 'AGTCG-TGCGAAAGCCCTA', 28.0)"
      ]
     },
     "execution_count": 10,
     "metadata": {},
     "output_type": "execute_result"
    }
   ],
   "source": [
    "alignments[0].seqA, alignments[0].seqB, alignments[0].score"
   ]
  },
  {
   "cell_type": "markdown",
   "metadata": {},
   "source": [
    "### Working with trees"
   ]
  },
  {
   "cell_type": "code",
   "execution_count": 11,
   "metadata": {},
   "outputs": [],
   "source": [
    "#!pip install dendropy"
   ]
  },
  {
   "cell_type": "code",
   "execution_count": 12,
   "metadata": {},
   "outputs": [],
   "source": [
    "import dendropy"
   ]
  },
  {
   "cell_type": "code",
   "execution_count": 13,
   "metadata": {},
   "outputs": [],
   "source": [
    "# https://dendropy.org/primer/trees.html#building-a-tree-programmatically\n",
    "\n",
    "taxon_namespace = dendropy.TaxonNamespace([\"A\", \"B\", \"C\", \"D\"])\n",
    "tree = dendropy.Tree(taxon_namespace=taxon_namespace)\n",
    "\n",
    "ch1 = tree.seed_node.new_child()\n",
    "ch1.edge.length = 1\n",
    "ch2 = tree.seed_node.new_child(edge_length=3)\n",
    "\n",
    "ch3 = dendropy.Node(edge_length=1)\n",
    "ch4 = dendropy.Node(edge_length=2)\n",
    "ch1.add_child(ch3)\n",
    "ch1.add_child(ch4)\n",
    "\n",
    "ch5 = dendropy.Node(edge_length=4)\n",
    "ch6 = dendropy.Node(edge_length=5)\n",
    "\n",
    "ch3.set_child_nodes([ch5, ch6])\n",
    "\n",
    "# Assign taxa\n",
    "ch2.taxon = taxon_namespace.get_taxon(\"A\")\n",
    "ch4.taxon = taxon_namespace.get_taxon(\"B\")\n",
    "ch5.taxon = taxon_namespace.get_taxon(\"C\")\n",
    "ch6.taxon = taxon_namespace.get_taxon(\"D\")"
   ]
  },
  {
   "cell_type": "code",
   "execution_count": 14,
   "metadata": {},
   "outputs": [
    {
     "name": "stdout",
     "output_type": "stream",
     "text": [
      "                                                                             /-------------------------------------- C\n",
      "                                      /--------------------------------------+                                        \n",
      "/-------------------------------------+                                      \\-------------------------------------- D\n",
      "|                                     |                                                                               \n",
      "+                                     \\----------------------------------------------------------------------------- B\n",
      "|                                                                                                                     \n",
      "\\------------------------------------------------------------------------------------------------------------------- A\n",
      "                                                                                                                      \n",
      "                                                                                                                      \n"
     ]
    }
   ],
   "source": [
    "# visual representation\n",
    "print(tree.as_ascii_plot())"
   ]
  },
  {
   "cell_type": "code",
   "execution_count": 15,
   "metadata": {},
   "outputs": [
    {
     "name": "stdout",
     "output_type": "stream",
     "text": [
      "(((C:4,D:5):1,B:2):1,A:3);\n",
      "\n"
     ]
    }
   ],
   "source": [
    "# Newick format \n",
    "print(tree.as_string(\"newick\"))"
   ]
  },
  {
   "cell_type": "markdown",
   "metadata": {},
   "source": [
    "### Working with numpy "
   ]
  },
  {
   "cell_type": "code",
   "execution_count": 23,
   "metadata": {},
   "outputs": [],
   "source": [
    "import numpy as np"
   ]
  },
  {
   "cell_type": "code",
   "execution_count": 24,
   "metadata": {},
   "outputs": [],
   "source": [
    "arr = np.ndarray((3,3))\n",
    "for i in range(3):\n",
    "    for j in range(3):\n",
    "        arr[i,j] = (i+1)+(j+1)*10"
   ]
  },
  {
   "cell_type": "code",
   "execution_count": 25,
   "metadata": {},
   "outputs": [
    {
     "data": {
      "text/plain": [
       "array([[11., 21., 31.],\n",
       "       [12., 22., 32.],\n",
       "       [13., 23., 33.]])"
      ]
     },
     "execution_count": 25,
     "metadata": {},
     "output_type": "execute_result"
    }
   ],
   "source": [
    "arr"
   ]
  },
  {
   "cell_type": "markdown",
   "metadata": {},
   "source": [
    "### Tasks"
   ]
  },
  {
   "cell_type": "code",
   "execution_count": null,
   "metadata": {},
   "outputs": [],
   "source": [
    "# Task 1: construct pairwise distance matrix for a list of sequences:\n",
    "# - align two sequences\n",
    "# - use hamming_distance\n",
    "\n",
    "def distance_matrix_pairwise(seqs):\n",
    "    dm = np.ndarray((len(seqs),len(seqs)))\n",
    "    # your code\n",
    "    \n",
    "    return dm\n",
    "\n",
    "# Example 1: pairwise_distance([\"AA\", \"AC\", \"GC\"]) -> \n",
    "#                                                    [[0,1,2],\n",
    "#                                                     [1,0,1],\n",
    "#                                                     [2,1,0]]"
   ]
  },
  {
   "cell_type": "code",
   "execution_count": 35,
   "metadata": {},
   "outputs": [],
   "source": [
    "# Task 2: perform hierarchical clustering\n",
    "\n",
    "def hierarchical_clustering(dm, taxa):\n",
    "    taxon_namespace = dendropy.TaxonNamespace(taxa)\n",
    "    tree = dendropy.Tree(taxon_namespace=taxon_namespace)\n",
    "    # your code\n",
    "    \n",
    "    return tree\n",
    "\n",
    "# Inputs:\n",
    "# - NxN distance matrix for N objects\n",
    "# - list of names for N objects\n",
    "\n",
    "# Brief notes:\n",
    "# - two nearest objects are joined into a cluster\n",
    "# - the corresponding edge_length should be taken as their respective distance / 2\n",
    "# - algorithm iterates until a signle root cluster is formed\n",
    "# - distance between clusters should be calculated as mean pairwise distance \n",
    "#   between all objects in the 1st cluster and all objects in the 2nd cluster (or suggest your idea?)"
   ]
  },
  {
   "cell_type": "code",
   "execution_count": 37,
   "metadata": {},
   "outputs": [],
   "source": [
    "# Task X: compare with scipy \n",
    "# https://docs.scipy.org/doc/scipy/reference/generated/scipy.cluster.hierarchy.linkage.html\n",
    "# consider different methods"
   ]
  },
  {
   "cell_type": "code",
   "execution_count": 38,
   "metadata": {},
   "outputs": [],
   "source": [
    "from scipy.cluster.hierarchy import dendrogram, linkage\n",
    "from scipy.spatial.distance import pdist"
   ]
  },
  {
   "cell_type": "code",
   "execution_count": 40,
   "metadata": {},
   "outputs": [
    {
     "data": {
      "text/plain": [
       "{'icoord': [[25.0, 25.0, 35.0, 35.0],\n",
       "  [15.0, 15.0, 30.0, 30.0],\n",
       "  [5.0, 5.0, 22.5, 22.5]],\n",
       " 'dcoord': [[0.0, 3.1622776601683795, 3.1622776601683795, 0.0],\n",
       "  [0.0, 3.872983346207417, 3.872983346207417, 3.1622776601683795],\n",
       "  [0.0, 5.744562646538029, 5.744562646538029, 3.872983346207417]],\n",
       " 'ivl': ['C', 'D', 'A', 'B'],\n",
       " 'leaves': [2, 3, 0, 1],\n",
       " 'color_list': ['C1', 'C1', 'C0'],\n",
       " 'leaves_color_list': ['C0', 'C1', 'C1', 'C1']}"
      ]
     },
     "execution_count": 40,
     "metadata": {},
     "output_type": "execute_result"
    },
    {
     "data": {
      "image/png": "[encoded data removed]",
      "text/plain": [
       "<Figure size 432x288 with 1 Axes>"
      ]
     },
     "metadata": {
      "needs_background": "light"
     },
     "output_type": "display_data"
    }
   ],
   "source": [
    "taxa = [\"A\", \"B\", \"C\", \"D\"]\n",
    "dm = np.array([[0,1,4,3],\n",
    "               [1,0,2,1],\n",
    "               [4,2,0,5],\n",
    "               [3,1,5,0]])\n",
    "tr = linkage(pdist(dm))\n",
    "dendrogram(tr, labels=taxa)"
   ]
  },
  {
   "cell_type": "code",
   "execution_count": null,
   "metadata": {},
   "outputs": [],
   "source": []
  }
 ],
 "metadata": {
  "kernelspec": {
   "display_name": "Python 3",
   "language": "python",
   "name": "python3"
  },
  "language_info": {
   "codemirror_mode": {
    "name": "ipython",
    "version": 3
   },
   "file_extension": ".py",
   "mimetype": "text/x-python",
   "name": "python",
   "nbconvert_exporter": "python",
   "pygments_lexer": "ipython3",
   "version": "3.7.9"
  }
 },
 "nbformat": 4,
 "nbformat_minor": 4
}
