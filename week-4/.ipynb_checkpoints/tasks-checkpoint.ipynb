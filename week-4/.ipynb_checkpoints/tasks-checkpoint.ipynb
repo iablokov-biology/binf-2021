{
 "cells": [
  {
   "cell_type": "markdown",
   "metadata": {},
   "source": [
    "# Bioinformatics 2021: Week 4"
   ]
  },
  {
   "cell_type": "markdown",
   "metadata": {},
   "source": [
    "### Working with trees"
   ]
  },
  {
   "cell_type": "code",
   "execution_count": 58,
   "metadata": {},
   "outputs": [],
   "source": [
    "#!pip install dendropy"
   ]
  },
  {
   "cell_type": "code",
   "execution_count": 59,
   "metadata": {},
   "outputs": [],
   "source": [
    "import dendropy"
   ]
  },
  {
   "cell_type": "code",
   "execution_count": 86,
   "metadata": {},
   "outputs": [],
   "source": [
    "# https://dendropy.org/primer/trees.html#building-a-tree-programmatically\n",
    "\n",
    "taxon_namespace = dendropy.TaxonNamespace([\"A\", \"B\", \"C\", \"D\"])\n",
    "tree = dendropy.Tree(taxon_namespace=taxon_namespace)\n",
    "\n",
    "ch1 = tree.seed_node.new_child()\n",
    "ch1.edge.length = 1\n",
    "ch2 = tree.seed_node.new_child(edge_length=3)\n",
    "\n",
    "ch3 = dendropy.Node(edge_length=1)\n",
    "ch4 = dendropy.Node(edge_length=2)\n",
    "ch1.add_child(ch3)\n",
    "ch1.add_child(ch4)\n",
    "\n",
    "ch5 = dendropy.Node(edge_length=4)\n",
    "ch6 = dendropy.Node(edge_length=5)\n",
    "\n",
    "ch3.set_child_nodes([ch5, ch6])\n",
    "\n",
    "# Assign taxa\n",
    "ch2.taxon = taxon_namespace.get_taxon(\"A\")\n",
    "ch4.taxon = taxon_namespace.get_taxon(\"B\")\n",
    "ch5.taxon = taxon_namespace.get_taxon(\"C\")\n",
    "ch6.taxon = taxon_namespace.get_taxon(\"D\")"
   ]
  },
  {
   "cell_type": "code",
   "execution_count": 87,
   "metadata": {},
   "outputs": [
    {
     "name": "stdout",
     "output_type": "stream",
     "text": [
      "                                                                             /-------------------------------------- C\n",
      "                                      /--------------------------------------+                                        \n",
      "/-------------------------------------+                                      \\-------------------------------------- D\n",
      "|                                     |                                                                               \n",
      "+                                     \\----------------------------------------------------------------------------- B\n",
      "|                                                                                                                     \n",
      "\\------------------------------------------------------------------------------------------------------------------- A\n",
      "                                                                                                                      \n",
      "                                                                                                                      \n"
     ]
    }
   ],
   "source": [
    "# visual representation\n",
    "print(tree.as_ascii_plot())"
   ]
  },
  {
   "cell_type": "code",
   "execution_count": 88,
   "metadata": {},
   "outputs": [
    {
     "name": "stdout",
     "output_type": "stream",
     "text": [
      "(((C:4,D:5):1,B:2):1,A:3);\n",
      "\n"
     ]
    }
   ],
   "source": [
    "# Newick format \n",
    "print(tree.as_string(\"newick\"))"
   ]
  },
  {
   "cell_type": "markdown",
   "metadata": {},
   "source": [
    "### Working with BioPython"
   ]
  },
  {
   "cell_type": "code",
   "execution_count": 90,
   "metadata": {},
   "outputs": [],
   "source": [
    "#pip install biopython"
   ]
  },
  {
   "cell_type": "code",
   "execution_count": 91,
   "metadata": {},
   "outputs": [],
   "source": [
    "from Bio import pairwise2\n",
    "from Bio.pairwise2 import format_alignment"
   ]
  },
  {
   "cell_type": "code",
   "execution_count": 92,
   "metadata": {},
   "outputs": [
    {
     "name": "stdout",
     "output_type": "stream",
     "text": [
      "AGTCGATGCGATAGCCGTA\n",
      "||||| |||||.||||.||\n",
      "AGTCG-TGCGAAAGCCCTA\n",
      "  Score=28\n",
      "\n"
     ]
    }
   ],
   "source": [
    "alignments = pairwise2.align.globalms(\"AGTCGATGCGATAGCCGTA\", \"AGTCGTGCGAAAGCCCTA\", 2, -1.5, -1, -0.5)\n",
    "print(format_alignment(*alignments[0]))"
   ]
  },
  {
   "cell_type": "code",
   "execution_count": 93,
   "metadata": {},
   "outputs": [
    {
     "data": {
      "text/plain": [
       "('AGTCGATGCGATAGCCGTA', 'AGTCG-TGCGAAAGCCCTA', 28.0)"
      ]
     },
     "execution_count": 93,
     "metadata": {},
     "output_type": "execute_result"
    }
   ],
   "source": [
    "alignments[0].seqA, alignments[0].seqB, alignments[0].score"
   ]
  },
  {
   "cell_type": "markdown",
   "metadata": {},
   "source": [
    "### Working with numpy "
   ]
  },
  {
   "cell_type": "code",
   "execution_count": 94,
   "metadata": {},
   "outputs": [],
   "source": [
    "import numpy as np"
   ]
  },
  {
   "cell_type": "code",
   "execution_count": 95,
   "metadata": {},
   "outputs": [],
   "source": [
    "arr = np.ndarray((3,3))\n",
    "for i in range(3):\n",
    "    for j in range(3):\n",
    "        arr[i,j] = (i+1)+(j+1)*10"
   ]
  },
  {
   "cell_type": "code",
   "execution_count": 96,
   "metadata": {},
   "outputs": [
    {
     "data": {
      "text/plain": [
       "array([[11., 21., 31.],\n",
       "       [12., 22., 32.],\n",
       "       [13., 23., 33.]])"
      ]
     },
     "execution_count": 96,
     "metadata": {},
     "output_type": "execute_result"
    }
   ],
   "source": [
    "arr"
   ]
  },
  {
   "cell_type": "markdown",
   "metadata": {},
   "source": [
    "### Tasks"
   ]
  },
  {
   "cell_type": "code",
   "execution_count": 97,
   "metadata": {},
   "outputs": [],
   "source": [
    "# Task 1: construct pairwise distance matrix for a list of sequences:\n",
    "# - align two sequences\n",
    "# - use hamming_distance\n",
    "\n",
    "def distance_matrix_pairwise(seqs):\n",
    "    dm = np.ndarray((len(seqs),len(seqs)))\n",
    "    # your code\n",
    "    \n",
    "    return dm\n",
    "\n",
    "# Example 1: pairwise_distance([\"AA\", \"AC\", \"GC\"]) -> \n",
    "#                                                    [[0,1,2],\n",
    "#                                                     [1,0,1],\n",
    "#                                                     [2,1,0]]"
   ]
  },
  {
   "cell_type": "code",
   "execution_count": 89,
   "metadata": {},
   "outputs": [],
   "source": [
    "# Task 2: perform hierarchical clustering\n",
    "\n",
    "def hierarchical_clustering(dm, taxa):\n",
    "    taxon_namespace = dendropy.TaxonNamespace(taxa)\n",
    "    tree = dendropy.Tree(taxon_namespace=taxon_namespace)\n",
    "    # your code\n",
    "    \n",
    "    return tree\n",
    "\n",
    "# Inputs:\n",
    "# - NxN distance matrix for N objects\n",
    "# - list of names for N objects\n",
    "\n",
    "# Brief notes:\n",
    "# - two nearest objects are joined into a cluster\n",
    "# - the corresponding edge_length should be taken as their respective distance / 2\n",
    "# - algorithm iterates until a signle root cluster is formed\n",
    "# - distance between clusters should be calculated as mean pairwise distance \n",
    "#   between all objects in the 1st cluster and all objects in the 2nd cluster (or suggest your idea?)"
   ]
  },
  {
   "cell_type": "code",
   "execution_count": null,
   "metadata": {},
   "outputs": [],
   "source": []
  }
 ],
 "metadata": {
  "kernelspec": {
   "display_name": "Python 3",
   "language": "python",
   "name": "python3"
  },
  "language_info": {
   "codemirror_mode": {
    "name": "ipython",
    "version": 3
   },
   "file_extension": ".py",
   "mimetype": "text/x-python",
   "name": "python",
   "nbconvert_exporter": "python",
   "pygments_lexer": "ipython3",
   "version": "3.7.9"
  }
 },
 "nbformat": 4,
 "nbformat_minor": 4
}
